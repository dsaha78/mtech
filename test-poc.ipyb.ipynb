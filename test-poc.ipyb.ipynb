{
 "cells": [
  {
   "cell_type": "code",
   "execution_count": 8,
   "metadata": {
    "collapsed": true
   },
   "outputs": [
    {
     "name": "stdout",
     "output_type": "stream",
     "text": [
      "word --> I Stemming --> i lemmatizer --> I\n",
      "word --> have Stemming --> have lemmatizer --> have\n",
      "word --> been Stemming --> been lemmatizer --> been\n",
      "word --> waiting Stemming --> wait lemmatizer --> waiting\n",
      "word --> overcoming Stemming --> overcom lemmatizer --> overcoming\n",
      "word --> learner Stemming --> learner lemmatizer --> learner\n",
      "word --> apply Stemming --> appli lemmatizer --> apply\n"
     ]
    }
   ],
   "source": [
    "import os.path\n",
    "\n",
    "import numpy as np\n",
    "from nltk.stem import WordNetLemmatizer\n",
    "from nltk.stem.porter import PorterStemmer\n",
    "from nltk.tokenize import word_tokenize\n",
    "#nltk.download()\n",
    "wordnet_lemmatizer=WordNetLemmatizer()\n",
    "porter_stemmer = PorterStemmer()\n",
    "input_str= 'I have been waiting overcoming learner apply'\n",
    "input_str=word_tokenize(input_str)\n",
    "for word in input_str:\n",
    "    print('word --> '+word +' Stemming --> '+porter_stemmer.stem(word)+' lemmatizer --> '+wordnet_lemmatizer.lemmatize(word))"
   ]
  },
  {
   "cell_type": "raw",
   "source": [
    "Glove"
   ],
   "metadata": {
    "collapsed": false,
    "pycharm": {
     "name": "#%% raw\n"
    }
   }
  },
  {
   "cell_type": "code",
   "execution_count": 11,
   "outputs": [
    {
     "name": "stdout",
     "output_type": "stream",
     "text": [
      "This has 1193514 words\n"
     ]
    }
   ],
   "source": [
    "Glove_dir='C:/05pythonworkspace/glove/twitter'\n",
    "embedding_index = {}\n",
    "glove_file = open(os.path.join(Glove_dir,'glove.twitter.27B.100d.txt'),'r', encoding=\"utf-8\")\n",
    "for line in glove_file:\n",
    "    datas = line.split()\n",
    "    word = datas[0]\n",
    "    coefficients = np.asarray(datas[1:], dtype='float32')\n",
    "    embedding_index[word] = coefficients\n",
    "glove_file.close()\n",
    "\n",
    "print('This has %s words' %len(embedding_index))"
   ],
   "metadata": {
    "collapsed": false,
    "pycharm": {
     "name": "#%%\n"
    }
   }
  },
  {
   "cell_type": "code",
   "execution_count": null,
   "outputs": [],
   "source": [],
   "metadata": {
    "collapsed": false,
    "pycharm": {
     "name": "#%%\n"
    }
   }
  }
 ],
 "metadata": {
  "kernelspec": {
   "display_name": "Python 3",
   "language": "python",
   "name": "python3"
  },
  "language_info": {
   "codemirror_mode": {
    "name": "ipython",
    "version": 2
   },
   "file_extension": ".py",
   "mimetype": "text/x-python",
   "name": "python",
   "nbconvert_exporter": "python",
   "pygments_lexer": "ipython2",
   "version": "2.7.6"
  }
 },
 "nbformat": 4,
 "nbformat_minor": 0
}