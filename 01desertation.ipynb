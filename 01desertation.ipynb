{
 "cells": [
  {
   "cell_type": "code",
   "execution_count": 219,
   "metadata": {
    "collapsed": true
   },
   "outputs": [],
   "source": [
    "import pandas as pd"
   ]
  },
  {
   "cell_type": "code",
   "execution_count": 220,
   "outputs": [
    {
     "name": "stdout",
     "output_type": "stream",
     "text": [
      "<class 'pandas.core.frame.DataFrame'>\n",
      "Int64Index: 89536 entries, 0 to 8127\n",
      "Data columns (total 2 columns):\n",
      " #   Column  Non-Null Count  Dtype \n",
      "---  ------  --------------  ----- \n",
      " 0   tweets  89534 non-null  object\n",
      " 1   class   89527 non-null  object\n",
      "dtypes: object(2)\n",
      "memory usage: 2.0+ MB\n",
      "            tweets\n",
      "class             \n",
      "figurative   23282\n",
      "irony        23005\n",
      "regular      20454\n",
      "sarcasm      22786\n"
     ]
    }
   ],
   "source": [
    "data01 = pd.read_csv('C:/51mtech/desertation/data/01.tweets-with-sarcasm-and-irony/train.csv')\n",
    "data01_test = pd.read_csv('C:/51mtech/desertation/data/01.tweets-with-sarcasm-and-irony/test.csv')\n",
    "data01 = data01.append(data01_test)\n",
    "data01.info()\n",
    "print(data01.groupby('class').count())"
   ],
   "metadata": {
    "collapsed": false,
    "pycharm": {
     "name": "#%%\n"
    }
   }
  },
  {
   "cell_type": "code",
   "execution_count": 221,
   "outputs": [
    {
     "name": "stdout",
     "output_type": "stream",
     "text": [
      "         tweets\n",
      "class          \n",
      "regular   20454\n",
      "sarcasm   22786\n",
      "<class 'pandas.core.frame.DataFrame'>\n",
      "Int64Index: 43240 entries, 60727 to 6022\n",
      "Data columns (total 2 columns):\n",
      " #   Column  Non-Null Count  Dtype \n",
      "---  ------  --------------  ----- \n",
      " 0   tweets  43240 non-null  object\n",
      " 1   class   43240 non-null  object\n",
      "dtypes: object(2)\n",
      "memory usage: 1013.4+ KB\n"
     ]
    }
   ],
   "source": [
    "data01_sarc = data01[data01['class'] == 'sarcasm']\n",
    "data01_sarc = data01_sarc.append(data01[data01['class'] == 'regular'])\n",
    "print(data01_sarc.groupby('class').count())\n",
    "data01_sarc.info()"
   ],
   "metadata": {
    "collapsed": false,
    "pycharm": {
     "name": "#%%\n"
    }
   }
  },
  {
   "cell_type": "code",
   "execution_count": 222,
   "outputs": [
    {
     "data": {
      "text/plain": "                                                                                tweets  \\\n60727  “@ThinkingHumanit: #Sarcastic People Are Actually #Smarter, #Sexier And More...   \n60728  Be aware  dirty step to get money  #staylight #staywhite  #sarcastic #moraln...   \n60729  In CA for 5 days and it rains 2 of them. #imaginarydrought #dontbelievethehy...   \n60730  Because we have no access to implements at home, we play with them at the @C...   \n60731  And the news gets even better... #sarcastic #DarkMatter Five please don't di...   \n60732    Don't ride him too long Joe, Edwin and Travis can lock this one down #Sarcasm   \n60733  @IminworkJeremy @medsingle #DailyMail readers being sensible as always #shoc...   \n60734  When you tell your server that you only want a little ice. Lol #serverlife #...   \n60735  \"Most functional part of the fam.\" Yeah okay. #hah #Ilaugh #thatsfunny #sure...   \n60736  @aisyeizhar kemon la siapa la yang tak tau tu. hehe have a blessed and blast...   \n\n         class  \n60727  sarcasm  \n60728  sarcasm  \n60729  sarcasm  \n60730  sarcasm  \n60731  sarcasm  \n60732  sarcasm  \n60733  sarcasm  \n60734  sarcasm  \n60735  sarcasm  \n60736  sarcasm  ",
      "text/html": "<div>\n<style scoped>\n    .dataframe tbody tr th:only-of-type {\n        vertical-align: middle;\n    }\n\n    .dataframe tbody tr th {\n        vertical-align: top;\n    }\n\n    .dataframe thead th {\n        text-align: right;\n    }\n</style>\n<table border=\"1\" class=\"dataframe\">\n  <thead>\n    <tr style=\"text-align: right;\">\n      <th></th>\n      <th>tweets</th>\n      <th>class</th>\n    </tr>\n  </thead>\n  <tbody>\n    <tr>\n      <th>60727</th>\n      <td>“@ThinkingHumanit: #Sarcastic People Are Actually #Smarter, #Sexier And More...</td>\n      <td>sarcasm</td>\n    </tr>\n    <tr>\n      <th>60728</th>\n      <td>Be aware  dirty step to get money  #staylight #staywhite  #sarcastic #moraln...</td>\n      <td>sarcasm</td>\n    </tr>\n    <tr>\n      <th>60729</th>\n      <td>In CA for 5 days and it rains 2 of them. #imaginarydrought #dontbelievethehy...</td>\n      <td>sarcasm</td>\n    </tr>\n    <tr>\n      <th>60730</th>\n      <td>Because we have no access to implements at home, we play with them at the @C...</td>\n      <td>sarcasm</td>\n    </tr>\n    <tr>\n      <th>60731</th>\n      <td>And the news gets even better... #sarcastic #DarkMatter Five please don't di...</td>\n      <td>sarcasm</td>\n    </tr>\n    <tr>\n      <th>60732</th>\n      <td>Don't ride him too long Joe, Edwin and Travis can lock this one down #Sarcasm</td>\n      <td>sarcasm</td>\n    </tr>\n    <tr>\n      <th>60733</th>\n      <td>@IminworkJeremy @medsingle #DailyMail readers being sensible as always #shoc...</td>\n      <td>sarcasm</td>\n    </tr>\n    <tr>\n      <th>60734</th>\n      <td>When you tell your server that you only want a little ice. Lol #serverlife #...</td>\n      <td>sarcasm</td>\n    </tr>\n    <tr>\n      <th>60735</th>\n      <td>\"Most functional part of the fam.\" Yeah okay. #hah #Ilaugh #thatsfunny #sure...</td>\n      <td>sarcasm</td>\n    </tr>\n    <tr>\n      <th>60736</th>\n      <td>@aisyeizhar kemon la siapa la yang tak tau tu. hehe have a blessed and blast...</td>\n      <td>sarcasm</td>\n    </tr>\n  </tbody>\n</table>\n</div>"
     },
     "execution_count": 222,
     "metadata": {},
     "output_type": "execute_result"
    }
   ],
   "source": [
    "data01_sarc.head(10)"
   ],
   "metadata": {
    "collapsed": false,
    "pycharm": {
     "name": "#%%\n"
    }
   }
  },
  {
   "cell_type": "code",
   "execution_count": 223,
   "outputs": [
    {
     "data": {
      "text/plain": "                                                                               tweets  \\\n6013  Meet the Modern Learner! Great #Infographic  by @Deloitte on #EdTech #Leader...   \n6014  9/30 Free Webinar! Overcoming the Challenge of Poorly Soluble Drugs http://t...   \n6015  Boys &amp; Girls is a webseries on #health, #sexual behaviour, #nutrition, #...   \n6016  Drugs are like hugs. #addictiontakesthepainaway \\n#drugs #Addiction #pain #g...   \n6017  Andy the train manager on the 8:27 frm MCR Picc to Bournemouth - What a joyf...   \n6018  #India 'Caste war' is back as politicians woo OBCs: NEW DELHI: In the run-up...   \n6019  AU #education #jobs Assistant Educator - Mermaid Waters: QLD-Mermaid Waters,...   \n6020  OH #GOPDebate comments: Apparently \"Jeb\" sounds like “penis” in Chinese. And...   \n6021  All BMC #schools to include sex #education as part of the curriculum from cl...   \n6022  Firm 'hides' school when recruits apply #socialmobility #school #education #...   \n\n        class  \n6013  regular  \n6014  regular  \n6015  regular  \n6016  regular  \n6017  regular  \n6018  regular  \n6019  regular  \n6020  regular  \n6021  regular  \n6022  regular  ",
      "text/html": "<div>\n<style scoped>\n    .dataframe tbody tr th:only-of-type {\n        vertical-align: middle;\n    }\n\n    .dataframe tbody tr th {\n        vertical-align: top;\n    }\n\n    .dataframe thead th {\n        text-align: right;\n    }\n</style>\n<table border=\"1\" class=\"dataframe\">\n  <thead>\n    <tr style=\"text-align: right;\">\n      <th></th>\n      <th>tweets</th>\n      <th>class</th>\n    </tr>\n  </thead>\n  <tbody>\n    <tr>\n      <th>6013</th>\n      <td>Meet the Modern Learner! Great #Infographic  by @Deloitte on #EdTech #Leader...</td>\n      <td>regular</td>\n    </tr>\n    <tr>\n      <th>6014</th>\n      <td>9/30 Free Webinar! Overcoming the Challenge of Poorly Soluble Drugs http://t...</td>\n      <td>regular</td>\n    </tr>\n    <tr>\n      <th>6015</th>\n      <td>Boys &amp;amp; Girls is a webseries on #health, #sexual behaviour, #nutrition, #...</td>\n      <td>regular</td>\n    </tr>\n    <tr>\n      <th>6016</th>\n      <td>Drugs are like hugs. #addictiontakesthepainaway \\n#drugs #Addiction #pain #g...</td>\n      <td>regular</td>\n    </tr>\n    <tr>\n      <th>6017</th>\n      <td>Andy the train manager on the 8:27 frm MCR Picc to Bournemouth - What a joyf...</td>\n      <td>regular</td>\n    </tr>\n    <tr>\n      <th>6018</th>\n      <td>#India 'Caste war' is back as politicians woo OBCs: NEW DELHI: In the run-up...</td>\n      <td>regular</td>\n    </tr>\n    <tr>\n      <th>6019</th>\n      <td>AU #education #jobs Assistant Educator - Mermaid Waters: QLD-Mermaid Waters,...</td>\n      <td>regular</td>\n    </tr>\n    <tr>\n      <th>6020</th>\n      <td>OH #GOPDebate comments: Apparently \"Jeb\" sounds like “penis” in Chinese. And...</td>\n      <td>regular</td>\n    </tr>\n    <tr>\n      <th>6021</th>\n      <td>All BMC #schools to include sex #education as part of the curriculum from cl...</td>\n      <td>regular</td>\n    </tr>\n    <tr>\n      <th>6022</th>\n      <td>Firm 'hides' school when recruits apply #socialmobility #school #education #...</td>\n      <td>regular</td>\n    </tr>\n  </tbody>\n</table>\n</div>"
     },
     "execution_count": 223,
     "metadata": {},
     "output_type": "execute_result"
    }
   ],
   "source": [
    "data01_sarc.tail(10)"
   ],
   "metadata": {
    "collapsed": false,
    "pycharm": {
     "name": "#%%\n"
    }
   }
  },
  {
   "cell_type": "markdown",
   "source": [
    "Preprocessing of tweets\n",
    "1. to lower case\n",
    "2. remove the urls\n",
    "3. remove hashtags\n",
    "4. remove mentions\n",
    "5. remove newline\n",
    "6. remove punctuation\n",
    "\n",
    "Removing Mentions and Hashtags from A Tweet in Python"
   ],
   "metadata": {
    "collapsed": false,
    "pycharm": {
     "name": "#%% md\n"
    }
   }
  },
  {
   "cell_type": "code",
   "execution_count": 224,
   "outputs": [],
   "source": [
    "import re\n",
    "import string\n",
    "\n",
    "def to_lowercase(text):\n",
    "    return text.lower()\n",
    "\n",
    "def remove_urls(text):\n",
    "    return re.sub(r\"http\\S+\",\"\",text)\n",
    "\n",
    "def remove_hashtag(text):\n",
    "    return re.sub(r\"#\",\"\",text)\n",
    "\n",
    "def remove_mention(text):\n",
    "    return re.sub(\"@[A-Za-z0-9]+\",\"\",text)\n",
    "\n",
    "def remove_newline(text):\n",
    "    return re.sub(r\"\\n\",\"\",text)\n",
    "\n",
    "def remove_punctuation(text):\n",
    "        return \"\".join([i for i in text if i not in string.punctuation])\n",
    "\n",
    "def remove_numbers(text):\n",
    "    return re.sub('[0-9]+', '', text)"
   ],
   "metadata": {
    "collapsed": false,
    "pycharm": {
     "name": "#%%\n"
    }
   }
  },
  {
   "cell_type": "code",
   "execution_count": 225,
   "outputs": [
    {
     "data": {
      "text/plain": "                                                                               tweets  \\\n6013  Meet the Modern Learner! Great #Infographic  by @Deloitte on #EdTech #Leader...   \n6014  9/30 Free Webinar! Overcoming the Challenge of Poorly Soluble Drugs http://t...   \n6015  Boys &amp; Girls is a webseries on #health, #sexual behaviour, #nutrition, #...   \n6016  Drugs are like hugs. #addictiontakesthepainaway \\n#drugs #Addiction #pain #g...   \n6017  Andy the train manager on the 8:27 frm MCR Picc to Bournemouth - What a joyf...   \n6018  #India 'Caste war' is back as politicians woo OBCs: NEW DELHI: In the run-up...   \n6019  AU #education #jobs Assistant Educator - Mermaid Waters: QLD-Mermaid Waters,...   \n6020  OH #GOPDebate comments: Apparently \"Jeb\" sounds like “penis” in Chinese. And...   \n6021  All BMC #schools to include sex #education as part of the curriculum from cl...   \n6022  Firm 'hides' school when recruits apply #socialmobility #school #education #...   \n\n        class  \\\n6013  regular   \n6014  regular   \n6015  regular   \n6016  regular   \n6017  regular   \n6018  regular   \n6019  regular   \n6020  regular   \n6021  regular   \n6022  regular   \n\n                                                                         clean_tweets  \n6013  meet the modern learner great infographic  by  on edtech leadership innovati...  \n6014   free webinar overcoming the challenge of poorly soluble drugs    rapidfact ...  \n6015  boys amp girls is a webseries on health sexual behaviour nutrition alcohol a...  \n6016  drugs are like hugs addictiontakesthepainaway drugs addiction pain grunge de...  \n6017  andy the train manager on the  frm mcr picc to bournemouth  what a joyful so...  \n6018  india caste war is back as politicians woo obcs new delhi in the runup to th...  \n6019  au education jobs assistant educator  mermaid waters qldmermaid waters fun f...  \n6020  oh gopdebate comments apparently jeb sounds like “penis” in chinese and so m...  \n6021  all bmc schools to include sex education as part of the curriculum from clas...  \n6022     firm hides school when recruits apply socialmobility school education class   ",
      "text/html": "<div>\n<style scoped>\n    .dataframe tbody tr th:only-of-type {\n        vertical-align: middle;\n    }\n\n    .dataframe tbody tr th {\n        vertical-align: top;\n    }\n\n    .dataframe thead th {\n        text-align: right;\n    }\n</style>\n<table border=\"1\" class=\"dataframe\">\n  <thead>\n    <tr style=\"text-align: right;\">\n      <th></th>\n      <th>tweets</th>\n      <th>class</th>\n      <th>clean_tweets</th>\n    </tr>\n  </thead>\n  <tbody>\n    <tr>\n      <th>6013</th>\n      <td>Meet the Modern Learner! Great #Infographic  by @Deloitte on #EdTech #Leader...</td>\n      <td>regular</td>\n      <td>meet the modern learner great infographic  by  on edtech leadership innovati...</td>\n    </tr>\n    <tr>\n      <th>6014</th>\n      <td>9/30 Free Webinar! Overcoming the Challenge of Poorly Soluble Drugs http://t...</td>\n      <td>regular</td>\n      <td>free webinar overcoming the challenge of poorly soluble drugs    rapidfact ...</td>\n    </tr>\n    <tr>\n      <th>6015</th>\n      <td>Boys &amp;amp; Girls is a webseries on #health, #sexual behaviour, #nutrition, #...</td>\n      <td>regular</td>\n      <td>boys amp girls is a webseries on health sexual behaviour nutrition alcohol a...</td>\n    </tr>\n    <tr>\n      <th>6016</th>\n      <td>Drugs are like hugs. #addictiontakesthepainaway \\n#drugs #Addiction #pain #g...</td>\n      <td>regular</td>\n      <td>drugs are like hugs addictiontakesthepainaway drugs addiction pain grunge de...</td>\n    </tr>\n    <tr>\n      <th>6017</th>\n      <td>Andy the train manager on the 8:27 frm MCR Picc to Bournemouth - What a joyf...</td>\n      <td>regular</td>\n      <td>andy the train manager on the  frm mcr picc to bournemouth  what a joyful so...</td>\n    </tr>\n    <tr>\n      <th>6018</th>\n      <td>#India 'Caste war' is back as politicians woo OBCs: NEW DELHI: In the run-up...</td>\n      <td>regular</td>\n      <td>india caste war is back as politicians woo obcs new delhi in the runup to th...</td>\n    </tr>\n    <tr>\n      <th>6019</th>\n      <td>AU #education #jobs Assistant Educator - Mermaid Waters: QLD-Mermaid Waters,...</td>\n      <td>regular</td>\n      <td>au education jobs assistant educator  mermaid waters qldmermaid waters fun f...</td>\n    </tr>\n    <tr>\n      <th>6020</th>\n      <td>OH #GOPDebate comments: Apparently \"Jeb\" sounds like “penis” in Chinese. And...</td>\n      <td>regular</td>\n      <td>oh gopdebate comments apparently jeb sounds like “penis” in chinese and so m...</td>\n    </tr>\n    <tr>\n      <th>6021</th>\n      <td>All BMC #schools to include sex #education as part of the curriculum from cl...</td>\n      <td>regular</td>\n      <td>all bmc schools to include sex education as part of the curriculum from clas...</td>\n    </tr>\n    <tr>\n      <th>6022</th>\n      <td>Firm 'hides' school when recruits apply #socialmobility #school #education #...</td>\n      <td>regular</td>\n      <td>firm hides school when recruits apply socialmobility school education class</td>\n    </tr>\n  </tbody>\n</table>\n</div>"
     },
     "execution_count": 225,
     "metadata": {},
     "output_type": "execute_result"
    }
   ],
   "source": [
    "data01_sarc['clean_tweets'] = data01_sarc.tweets.apply(to_lowercase)\n",
    "data01_sarc['clean_tweets'] = data01_sarc.clean_tweets.apply(remove_urls)\n",
    "data01_sarc['clean_tweets'] = data01_sarc.clean_tweets.apply(remove_hashtag)\n",
    "data01_sarc['clean_tweets'] = data01_sarc.clean_tweets.apply(remove_mention)\n",
    "data01_sarc['clean_tweets'] = data01_sarc.clean_tweets.apply(remove_numbers)\n",
    "data01_sarc['clean_tweets'] = data01_sarc.clean_tweets.apply(remove_newline)\n",
    "data01_sarc['clean_tweets'] = data01_sarc.clean_tweets.apply(remove_punctuation)\n",
    "\n",
    "data01_sarc.tail(10)"
   ],
   "metadata": {
    "collapsed": false,
    "pycharm": {
     "name": "#%%\n"
    }
   }
  },
  {
   "cell_type": "raw",
   "source": [
    "Tokenization and Stopwords removal"
   ],
   "metadata": {
    "collapsed": false,
    "pycharm": {
     "name": "#%% raw\n"
    }
   }
  },
  {
   "cell_type": "code",
   "execution_count": 226,
   "outputs": [],
   "source": [
    "def tokenization(text):\n",
    "    return text.split()"
   ],
   "metadata": {
    "collapsed": false,
    "pycharm": {
     "name": "#%%\n"
    }
   }
  },
  {
   "cell_type": "code",
   "execution_count": 227,
   "outputs": [
    {
     "data": {
      "text/plain": "                                                                               tweets  \\\n6013  Meet the Modern Learner! Great #Infographic  by @Deloitte on #EdTech #Leader...   \n6014  9/30 Free Webinar! Overcoming the Challenge of Poorly Soluble Drugs http://t...   \n6015  Boys &amp; Girls is a webseries on #health, #sexual behaviour, #nutrition, #...   \n6016  Drugs are like hugs. #addictiontakesthepainaway \\n#drugs #Addiction #pain #g...   \n6017  Andy the train manager on the 8:27 frm MCR Picc to Bournemouth - What a joyf...   \n6018  #India 'Caste war' is back as politicians woo OBCs: NEW DELHI: In the run-up...   \n6019  AU #education #jobs Assistant Educator - Mermaid Waters: QLD-Mermaid Waters,...   \n6020  OH #GOPDebate comments: Apparently \"Jeb\" sounds like “penis” in Chinese. And...   \n6021  All BMC #schools to include sex #education as part of the curriculum from cl...   \n6022  Firm 'hides' school when recruits apply #socialmobility #school #education #...   \n\n        class  \\\n6013  regular   \n6014  regular   \n6015  regular   \n6016  regular   \n6017  regular   \n6018  regular   \n6019  regular   \n6020  regular   \n6021  regular   \n6022  regular   \n\n                                                                         clean_tweets  \\\n6013  meet the modern learner great infographic  by  on edtech leadership innovati...   \n6014   free webinar overcoming the challenge of poorly soluble drugs    rapidfact ...   \n6015  boys amp girls is a webseries on health sexual behaviour nutrition alcohol a...   \n6016  drugs are like hugs addictiontakesthepainaway drugs addiction pain grunge de...   \n6017  andy the train manager on the  frm mcr picc to bournemouth  what a joyful so...   \n6018  india caste war is back as politicians woo obcs new delhi in the runup to th...   \n6019  au education jobs assistant educator  mermaid waters qldmermaid waters fun f...   \n6020  oh gopdebate comments apparently jeb sounds like “penis” in chinese and so m...   \n6021  all bmc schools to include sex education as part of the curriculum from clas...   \n6022     firm hides school when recruits apply socialmobility school education class    \n\n                                                                         tweets_token  \n6013  [meet, the, modern, learner, great, infographic, by, on, edtech, leadership,...  \n6014  [free, webinar, overcoming, the, challenge, of, poorly, soluble, drugs, rapi...  \n6015  [boys, amp, girls, is, a, webseries, on, health, sexual, behaviour, nutritio...  \n6016  [drugs, are, like, hugs, addictiontakesthepainaway, drugs, addiction, pain, ...  \n6017  [andy, the, train, manager, on, the, frm, mcr, picc, to, bournemouth, what, ...  \n6018  [india, caste, war, is, back, as, politicians, woo, obcs, new, delhi, in, th...  \n6019  [au, education, jobs, assistant, educator, mermaid, waters, qldmermaid, wate...  \n6020  [oh, gopdebate, comments, apparently, jeb, sounds, like, “penis”, in, chines...  \n6021  [all, bmc, schools, to, include, sex, education, as, part, of, the, curricul...  \n6022  [firm, hides, school, when, recruits, apply, socialmobility, school, educati...  ",
      "text/html": "<div>\n<style scoped>\n    .dataframe tbody tr th:only-of-type {\n        vertical-align: middle;\n    }\n\n    .dataframe tbody tr th {\n        vertical-align: top;\n    }\n\n    .dataframe thead th {\n        text-align: right;\n    }\n</style>\n<table border=\"1\" class=\"dataframe\">\n  <thead>\n    <tr style=\"text-align: right;\">\n      <th></th>\n      <th>tweets</th>\n      <th>class</th>\n      <th>clean_tweets</th>\n      <th>tweets_token</th>\n    </tr>\n  </thead>\n  <tbody>\n    <tr>\n      <th>6013</th>\n      <td>Meet the Modern Learner! Great #Infographic  by @Deloitte on #EdTech #Leader...</td>\n      <td>regular</td>\n      <td>meet the modern learner great infographic  by  on edtech leadership innovati...</td>\n      <td>[meet, the, modern, learner, great, infographic, by, on, edtech, leadership,...</td>\n    </tr>\n    <tr>\n      <th>6014</th>\n      <td>9/30 Free Webinar! Overcoming the Challenge of Poorly Soluble Drugs http://t...</td>\n      <td>regular</td>\n      <td>free webinar overcoming the challenge of poorly soluble drugs    rapidfact ...</td>\n      <td>[free, webinar, overcoming, the, challenge, of, poorly, soluble, drugs, rapi...</td>\n    </tr>\n    <tr>\n      <th>6015</th>\n      <td>Boys &amp;amp; Girls is a webseries on #health, #sexual behaviour, #nutrition, #...</td>\n      <td>regular</td>\n      <td>boys amp girls is a webseries on health sexual behaviour nutrition alcohol a...</td>\n      <td>[boys, amp, girls, is, a, webseries, on, health, sexual, behaviour, nutritio...</td>\n    </tr>\n    <tr>\n      <th>6016</th>\n      <td>Drugs are like hugs. #addictiontakesthepainaway \\n#drugs #Addiction #pain #g...</td>\n      <td>regular</td>\n      <td>drugs are like hugs addictiontakesthepainaway drugs addiction pain grunge de...</td>\n      <td>[drugs, are, like, hugs, addictiontakesthepainaway, drugs, addiction, pain, ...</td>\n    </tr>\n    <tr>\n      <th>6017</th>\n      <td>Andy the train manager on the 8:27 frm MCR Picc to Bournemouth - What a joyf...</td>\n      <td>regular</td>\n      <td>andy the train manager on the  frm mcr picc to bournemouth  what a joyful so...</td>\n      <td>[andy, the, train, manager, on, the, frm, mcr, picc, to, bournemouth, what, ...</td>\n    </tr>\n    <tr>\n      <th>6018</th>\n      <td>#India 'Caste war' is back as politicians woo OBCs: NEW DELHI: In the run-up...</td>\n      <td>regular</td>\n      <td>india caste war is back as politicians woo obcs new delhi in the runup to th...</td>\n      <td>[india, caste, war, is, back, as, politicians, woo, obcs, new, delhi, in, th...</td>\n    </tr>\n    <tr>\n      <th>6019</th>\n      <td>AU #education #jobs Assistant Educator - Mermaid Waters: QLD-Mermaid Waters,...</td>\n      <td>regular</td>\n      <td>au education jobs assistant educator  mermaid waters qldmermaid waters fun f...</td>\n      <td>[au, education, jobs, assistant, educator, mermaid, waters, qldmermaid, wate...</td>\n    </tr>\n    <tr>\n      <th>6020</th>\n      <td>OH #GOPDebate comments: Apparently \"Jeb\" sounds like “penis” in Chinese. And...</td>\n      <td>regular</td>\n      <td>oh gopdebate comments apparently jeb sounds like “penis” in chinese and so m...</td>\n      <td>[oh, gopdebate, comments, apparently, jeb, sounds, like, “penis”, in, chines...</td>\n    </tr>\n    <tr>\n      <th>6021</th>\n      <td>All BMC #schools to include sex #education as part of the curriculum from cl...</td>\n      <td>regular</td>\n      <td>all bmc schools to include sex education as part of the curriculum from clas...</td>\n      <td>[all, bmc, schools, to, include, sex, education, as, part, of, the, curricul...</td>\n    </tr>\n    <tr>\n      <th>6022</th>\n      <td>Firm 'hides' school when recruits apply #socialmobility #school #education #...</td>\n      <td>regular</td>\n      <td>firm hides school when recruits apply socialmobility school education class</td>\n      <td>[firm, hides, school, when, recruits, apply, socialmobility, school, educati...</td>\n    </tr>\n  </tbody>\n</table>\n</div>"
     },
     "execution_count": 227,
     "metadata": {},
     "output_type": "execute_result"
    }
   ],
   "source": [
    "data01_sarc['tweets_token'] = data01_sarc.clean_tweets.apply(lambda x: tokenization(x))\n",
    "\n",
    "data01_sarc.tail(10)"
   ],
   "metadata": {
    "collapsed": false,
    "pycharm": {
     "name": "#%%\n"
    }
   }
  },
  {
   "cell_type": "code",
   "execution_count": 238,
   "outputs": [
    {
     "data": {
      "text/plain": "                                                                               tweets  \\\n6013  Meet the Modern Learner! Great #Infographic  by @Deloitte on #EdTech #Leader...   \n6014  9/30 Free Webinar! Overcoming the Challenge of Poorly Soluble Drugs http://t...   \n6015  Boys &amp; Girls is a webseries on #health, #sexual behaviour, #nutrition, #...   \n6016  Drugs are like hugs. #addictiontakesthepainaway \\n#drugs #Addiction #pain #g...   \n6017  Andy the train manager on the 8:27 frm MCR Picc to Bournemouth - What a joyf...   \n6018  #India 'Caste war' is back as politicians woo OBCs: NEW DELHI: In the run-up...   \n6019  AU #education #jobs Assistant Educator - Mermaid Waters: QLD-Mermaid Waters,...   \n6020  OH #GOPDebate comments: Apparently \"Jeb\" sounds like “penis” in Chinese. And...   \n6021  All BMC #schools to include sex #education as part of the curriculum from cl...   \n6022  Firm 'hides' school when recruits apply #socialmobility #school #education #...   \n\n        class  \\\n6013  regular   \n6014  regular   \n6015  regular   \n6016  regular   \n6017  regular   \n6018  regular   \n6019  regular   \n6020  regular   \n6021  regular   \n6022  regular   \n\n                                                                         clean_tweets  \\\n6013  meet the modern learner great infographic  by  on edtech leadership innovati...   \n6014   free webinar overcoming the challenge of poorly soluble drugs    rapidfact ...   \n6015  boys amp girls is a webseries on health sexual behaviour nutrition alcohol a...   \n6016  drugs are like hugs addictiontakesthepainaway drugs addiction pain grunge de...   \n6017  andy the train manager on the  frm mcr picc to bournemouth  what a joyful so...   \n6018  india caste war is back as politicians woo obcs new delhi in the runup to th...   \n6019  au education jobs assistant educator  mermaid waters qldmermaid waters fun f...   \n6020  oh gopdebate comments apparently jeb sounds like “penis” in chinese and so m...   \n6021  all bmc schools to include sex education as part of the curriculum from clas...   \n6022     firm hides school when recruits apply socialmobility school education class    \n\n                                                                         tweets_token  \\\n6013  [meet, the, modern, learner, great, infographic, by, on, edtech, leadership,...   \n6014  [free, webinar, overcoming, the, challenge, of, poorly, soluble, drugs, rapi...   \n6015  [boys, amp, girls, is, a, webseries, on, health, sexual, behaviour, nutritio...   \n6016  [drugs, are, like, hugs, addictiontakesthepainaway, drugs, addiction, pain, ...   \n6017  [andy, the, train, manager, on, the, frm, mcr, picc, to, bournemouth, what, ...   \n6018  [india, caste, war, is, back, as, politicians, woo, obcs, new, delhi, in, th...   \n6019  [au, education, jobs, assistant, educator, mermaid, waters, qldmermaid, wate...   \n6020  [oh, gopdebate, comments, apparently, jeb, sounds, like, “penis”, in, chines...   \n6021  [all, bmc, schools, to, include, sex, education, as, part, of, the, curricul...   \n6022  [firm, hides, school, when, recruits, apply, socialmobility, school, educati...   \n\n                                                                         no_stopwords  \\\n6013  [meet, modern, learner, great, infographic, edtech, leadership, innovation, ...   \n6014  [free, webinar, overcoming, challenge, poorly, soluble, drugs, rapidfact, ph...   \n6015  [boys, amp, girls, webseries, health, sexual, behaviour, nutrition, alcohol,...   \n6016  [drugs, like, hugs, addictiontakesthepainaway, drugs, addiction, pain, grung...   \n6017  [andy, train, manager, frm, mcr, picc, bournemouth, joyful, soul, cheering, ...   \n6018  [india, caste, war, back, politicians, woo, obcs, new, delhi, runup, lok, sa...   \n6019  [au, education, jobs, assistant, educator, mermaid, waters, qldmermaid, wate...   \n6020  [oh, gopdebate, comments, apparently, jeb, sounds, like, “penis”, chinese, m...   \n6021        [bmc, schools, include, sex, education, part, curriculum, class, viii, x]   \n6022  [firm, hides, school, recruits, apply, socialmobility, school, education, cl...   \n\n                                                                         cleaned_text  \n6013  [meet, modern, learner, great, infograph, edtech, leadership, innov, educ, i...  \n6014  [free, webinar, overcom, challeng, poorli, solubl, drug, rapidfact, pharma, ...  \n6015      [boy, amp, girl, webseri, health, sexual, behaviour, nutrit, alcohol, drug]  \n6016  [drug, like, hug, addictiontakesthepainaway, drug, addict, pain, grung, depr...  \n6017  [andi, train, manag, frm, mcr, picc, bournemouth, joy, soul, cheer, tuesday,...  \n6018  [india, cast, war, back, politician, woo, obc, new, delhi, runup, lok, sabha...  \n6019  [au, educ, job, assist, educ, mermaid, water, qldmermaid, water, fun, friend...  \n6020  [oh, gopdeb, comment, appar, jeb, sound, like, “penis”, chine, million, peop...  \n6021               [bmc, school, includ, sex, educ, part, curriculum, class, viii, x]  \n6022            [firm, hide, school, recruit, appli, socialmobl, school, educ, class]  ",
      "text/html": "<div>\n<style scoped>\n    .dataframe tbody tr th:only-of-type {\n        vertical-align: middle;\n    }\n\n    .dataframe tbody tr th {\n        vertical-align: top;\n    }\n\n    .dataframe thead th {\n        text-align: right;\n    }\n</style>\n<table border=\"1\" class=\"dataframe\">\n  <thead>\n    <tr style=\"text-align: right;\">\n      <th></th>\n      <th>tweets</th>\n      <th>class</th>\n      <th>clean_tweets</th>\n      <th>tweets_token</th>\n      <th>no_stopwords</th>\n      <th>cleaned_text</th>\n    </tr>\n  </thead>\n  <tbody>\n    <tr>\n      <th>6013</th>\n      <td>Meet the Modern Learner! Great #Infographic  by @Deloitte on #EdTech #Leader...</td>\n      <td>regular</td>\n      <td>meet the modern learner great infographic  by  on edtech leadership innovati...</td>\n      <td>[meet, the, modern, learner, great, infographic, by, on, edtech, leadership,...</td>\n      <td>[meet, modern, learner, great, infographic, edtech, leadership, innovation, ...</td>\n      <td>[meet, modern, learner, great, infograph, edtech, leadership, innov, educ, i...</td>\n    </tr>\n    <tr>\n      <th>6014</th>\n      <td>9/30 Free Webinar! Overcoming the Challenge of Poorly Soluble Drugs http://t...</td>\n      <td>regular</td>\n      <td>free webinar overcoming the challenge of poorly soluble drugs    rapidfact ...</td>\n      <td>[free, webinar, overcoming, the, challenge, of, poorly, soluble, drugs, rapi...</td>\n      <td>[free, webinar, overcoming, challenge, poorly, soluble, drugs, rapidfact, ph...</td>\n      <td>[free, webinar, overcom, challeng, poorli, solubl, drug, rapidfact, pharma, ...</td>\n    </tr>\n    <tr>\n      <th>6015</th>\n      <td>Boys &amp;amp; Girls is a webseries on #health, #sexual behaviour, #nutrition, #...</td>\n      <td>regular</td>\n      <td>boys amp girls is a webseries on health sexual behaviour nutrition alcohol a...</td>\n      <td>[boys, amp, girls, is, a, webseries, on, health, sexual, behaviour, nutritio...</td>\n      <td>[boys, amp, girls, webseries, health, sexual, behaviour, nutrition, alcohol,...</td>\n      <td>[boy, amp, girl, webseri, health, sexual, behaviour, nutrit, alcohol, drug]</td>\n    </tr>\n    <tr>\n      <th>6016</th>\n      <td>Drugs are like hugs. #addictiontakesthepainaway \\n#drugs #Addiction #pain #g...</td>\n      <td>regular</td>\n      <td>drugs are like hugs addictiontakesthepainaway drugs addiction pain grunge de...</td>\n      <td>[drugs, are, like, hugs, addictiontakesthepainaway, drugs, addiction, pain, ...</td>\n      <td>[drugs, like, hugs, addictiontakesthepainaway, drugs, addiction, pain, grung...</td>\n      <td>[drug, like, hug, addictiontakesthepainaway, drug, addict, pain, grung, depr...</td>\n    </tr>\n    <tr>\n      <th>6017</th>\n      <td>Andy the train manager on the 8:27 frm MCR Picc to Bournemouth - What a joyf...</td>\n      <td>regular</td>\n      <td>andy the train manager on the  frm mcr picc to bournemouth  what a joyful so...</td>\n      <td>[andy, the, train, manager, on, the, frm, mcr, picc, to, bournemouth, what, ...</td>\n      <td>[andy, train, manager, frm, mcr, picc, bournemouth, joyful, soul, cheering, ...</td>\n      <td>[andi, train, manag, frm, mcr, picc, bournemouth, joy, soul, cheer, tuesday,...</td>\n    </tr>\n    <tr>\n      <th>6018</th>\n      <td>#India 'Caste war' is back as politicians woo OBCs: NEW DELHI: In the run-up...</td>\n      <td>regular</td>\n      <td>india caste war is back as politicians woo obcs new delhi in the runup to th...</td>\n      <td>[india, caste, war, is, back, as, politicians, woo, obcs, new, delhi, in, th...</td>\n      <td>[india, caste, war, back, politicians, woo, obcs, new, delhi, runup, lok, sa...</td>\n      <td>[india, cast, war, back, politician, woo, obc, new, delhi, runup, lok, sabha...</td>\n    </tr>\n    <tr>\n      <th>6019</th>\n      <td>AU #education #jobs Assistant Educator - Mermaid Waters: QLD-Mermaid Waters,...</td>\n      <td>regular</td>\n      <td>au education jobs assistant educator  mermaid waters qldmermaid waters fun f...</td>\n      <td>[au, education, jobs, assistant, educator, mermaid, waters, qldmermaid, wate...</td>\n      <td>[au, education, jobs, assistant, educator, mermaid, waters, qldmermaid, wate...</td>\n      <td>[au, educ, job, assist, educ, mermaid, water, qldmermaid, water, fun, friend...</td>\n    </tr>\n    <tr>\n      <th>6020</th>\n      <td>OH #GOPDebate comments: Apparently \"Jeb\" sounds like “penis” in Chinese. And...</td>\n      <td>regular</td>\n      <td>oh gopdebate comments apparently jeb sounds like “penis” in chinese and so m...</td>\n      <td>[oh, gopdebate, comments, apparently, jeb, sounds, like, “penis”, in, chines...</td>\n      <td>[oh, gopdebate, comments, apparently, jeb, sounds, like, “penis”, chinese, m...</td>\n      <td>[oh, gopdeb, comment, appar, jeb, sound, like, “penis”, chine, million, peop...</td>\n    </tr>\n    <tr>\n      <th>6021</th>\n      <td>All BMC #schools to include sex #education as part of the curriculum from cl...</td>\n      <td>regular</td>\n      <td>all bmc schools to include sex education as part of the curriculum from clas...</td>\n      <td>[all, bmc, schools, to, include, sex, education, as, part, of, the, curricul...</td>\n      <td>[bmc, schools, include, sex, education, part, curriculum, class, viii, x]</td>\n      <td>[bmc, school, includ, sex, educ, part, curriculum, class, viii, x]</td>\n    </tr>\n    <tr>\n      <th>6022</th>\n      <td>Firm 'hides' school when recruits apply #socialmobility #school #education #...</td>\n      <td>regular</td>\n      <td>firm hides school when recruits apply socialmobility school education class</td>\n      <td>[firm, hides, school, when, recruits, apply, socialmobility, school, educati...</td>\n      <td>[firm, hides, school, recruits, apply, socialmobility, school, education, cl...</td>\n      <td>[firm, hide, school, recruit, appli, socialmobl, school, educ, class]</td>\n    </tr>\n  </tbody>\n</table>\n</div>"
     },
     "execution_count": 238,
     "metadata": {},
     "output_type": "execute_result"
    }
   ],
   "source": [
    "import nltk\n",
    "\n",
    "stopwords = nltk.corpus.stopwords.words('english')\n",
    "\n",
    "def remove_stopwords(text):\n",
    "    output= [word for word in text if word not in stopwords]\n",
    "    return output\n",
    "\n",
    "data01_sarc['no_stopwords']= data01_sarc['tweets_token'].apply(lambda x:remove_stopwords(x))\n",
    "\n",
    "data01_sarc.tail(10)"
   ],
   "metadata": {
    "collapsed": false,
    "pycharm": {
     "name": "#%%\n"
    }
   }
  },
  {
   "cell_type": "raw",
   "source": [
    "Stemming and Leematization"
   ],
   "metadata": {
    "collapsed": false,
    "pycharm": {
     "name": "#%% raw\n"
    }
   }
  },
  {
   "cell_type": "code",
   "execution_count": 235,
   "outputs": [],
   "source": [
    "from nltk.stem.porter import PorterStemmer\n",
    "from nltk.stem import WordNetLemmatizer\n",
    "\n",
    "porter_stemmer = PorterStemmer()\n",
    "wordnet_lemmatizer = WordNetLemmatizer()\n",
    "\n",
    "def stemming(text):\n",
    "    return  [porter_stemmer.stem(word) for word in text]\n",
    "\n",
    "def lemmatizing(text):\n",
    "    return [wordnet_lemmatizer.lemmatize(word) for word in text]"
   ],
   "metadata": {
    "collapsed": false,
    "pycharm": {
     "name": "#%%\n"
    }
   }
  },
  {
   "cell_type": "code",
   "execution_count": 236,
   "outputs": [],
   "source": [
    "#data01_sarc['no_stopwords'] = data01_sarc['no_stopwords'].apply(lambda x: stemming(x))\n"
   ],
   "metadata": {
    "collapsed": false,
    "pycharm": {
     "name": "#%%\n"
    }
   }
  },
  {
   "cell_type": "code",
   "execution_count": 231,
   "outputs": [
    {
     "data": {
      "text/plain": "                                                                               tweets  \\\n6013  Meet the Modern Learner! Great #Infographic  by @Deloitte on #EdTech #Leader...   \n6014  9/30 Free Webinar! Overcoming the Challenge of Poorly Soluble Drugs http://t...   \n6015  Boys &amp; Girls is a webseries on #health, #sexual behaviour, #nutrition, #...   \n6016  Drugs are like hugs. #addictiontakesthepainaway \\n#drugs #Addiction #pain #g...   \n6017  Andy the train manager on the 8:27 frm MCR Picc to Bournemouth - What a joyf...   \n6018  #India 'Caste war' is back as politicians woo OBCs: NEW DELHI: In the run-up...   \n6019  AU #education #jobs Assistant Educator - Mermaid Waters: QLD-Mermaid Waters,...   \n6020  OH #GOPDebate comments: Apparently \"Jeb\" sounds like “penis” in Chinese. And...   \n6021  All BMC #schools to include sex #education as part of the curriculum from cl...   \n6022  Firm 'hides' school when recruits apply #socialmobility #school #education #...   \n\n        class  \\\n6013  regular   \n6014  regular   \n6015  regular   \n6016  regular   \n6017  regular   \n6018  regular   \n6019  regular   \n6020  regular   \n6021  regular   \n6022  regular   \n\n                                                                         clean_tweets  \\\n6013  meet the modern learner great infographic  by  on edtech leadership innovati...   \n6014   free webinar overcoming the challenge of poorly soluble drugs    rapidfact ...   \n6015  boys amp girls is a webseries on health sexual behaviour nutrition alcohol a...   \n6016  drugs are like hugs addictiontakesthepainaway drugs addiction pain grunge de...   \n6017  andy the train manager on the  frm mcr picc to bournemouth  what a joyful so...   \n6018  india caste war is back as politicians woo obcs new delhi in the runup to th...   \n6019  au education jobs assistant educator  mermaid waters qldmermaid waters fun f...   \n6020  oh gopdebate comments apparently jeb sounds like “penis” in chinese and so m...   \n6021  all bmc schools to include sex education as part of the curriculum from clas...   \n6022     firm hides school when recruits apply socialmobility school education class    \n\n                                                                         tweets_token  \\\n6013  [meet, the, modern, learner, great, infographic, by, on, edtech, leadership,...   \n6014  [free, webinar, overcoming, the, challenge, of, poorly, soluble, drugs, rapi...   \n6015  [boys, amp, girls, is, a, webseries, on, health, sexual, behaviour, nutritio...   \n6016  [drugs, are, like, hugs, addictiontakesthepainaway, drugs, addiction, pain, ...   \n6017  [andy, the, train, manager, on, the, frm, mcr, picc, to, bournemouth, what, ...   \n6018  [india, caste, war, is, back, as, politicians, woo, obcs, new, delhi, in, th...   \n6019  [au, education, jobs, assistant, educator, mermaid, waters, qldmermaid, wate...   \n6020  [oh, gopdebate, comments, apparently, jeb, sounds, like, “penis”, in, chines...   \n6021  [all, bmc, schools, to, include, sex, education, as, part, of, the, curricul...   \n6022  [firm, hides, school, when, recruits, apply, socialmobility, school, educati...   \n\n                                                                         no_stopwords  \\\n6013  [meet, modern, learner, great, infograph, edtech, leadership, innov, educ, i...   \n6014  [free, webinar, overcom, challeng, poorli, solubl, drug, rapidfact, pharma, ...   \n6015      [boy, amp, girl, webseri, health, sexual, behaviour, nutrit, alcohol, drug]   \n6016  [drug, like, hug, addictiontakesthepainaway, drug, addict, pain, grung, depr...   \n6017  [andi, train, manag, frm, mcr, picc, bournemouth, joy, soul, cheer, tuesday,...   \n6018  [india, cast, war, back, politician, woo, obc, new, delhi, runup, lok, sabha...   \n6019  [au, educ, job, assist, educ, mermaid, water, qldmermaid, water, fun, friend...   \n6020  [oh, gopdeb, comment, appar, jeb, sound, like, “penis”, chines, million, peo...   \n6021               [bmc, school, includ, sex, educ, part, curriculum, class, viii, x]   \n6022            [firm, hide, school, recruit, appli, socialmobl, school, educ, class]   \n\n                                                                         cleaned_text  \n6013  [meet, modern, learner, great, infograph, edtech, leadership, innov, educ, i...  \n6014  [free, webinar, overcom, challeng, poorli, solubl, drug, rapidfact, pharma, ...  \n6015      [boy, amp, girl, webseri, health, sexual, behaviour, nutrit, alcohol, drug]  \n6016  [drug, like, hug, addictiontakesthepainaway, drug, addict, pain, grung, depr...  \n6017  [andi, train, manag, frm, mcr, picc, bournemouth, joy, soul, cheer, tuesday,...  \n6018  [india, cast, war, back, politician, woo, obc, new, delhi, runup, lok, sabha...  \n6019  [au, educ, job, assist, educ, mermaid, water, qldmermaid, water, fun, friend...  \n6020  [oh, gopdeb, comment, appar, jeb, sound, like, “penis”, chine, million, peop...  \n6021               [bmc, school, includ, sex, educ, part, curriculum, class, viii, x]  \n6022            [firm, hide, school, recruit, appli, socialmobl, school, educ, class]  ",
      "text/html": "<div>\n<style scoped>\n    .dataframe tbody tr th:only-of-type {\n        vertical-align: middle;\n    }\n\n    .dataframe tbody tr th {\n        vertical-align: top;\n    }\n\n    .dataframe thead th {\n        text-align: right;\n    }\n</style>\n<table border=\"1\" class=\"dataframe\">\n  <thead>\n    <tr style=\"text-align: right;\">\n      <th></th>\n      <th>tweets</th>\n      <th>class</th>\n      <th>clean_tweets</th>\n      <th>tweets_token</th>\n      <th>no_stopwords</th>\n      <th>cleaned_text</th>\n    </tr>\n  </thead>\n  <tbody>\n    <tr>\n      <th>6013</th>\n      <td>Meet the Modern Learner! Great #Infographic  by @Deloitte on #EdTech #Leader...</td>\n      <td>regular</td>\n      <td>meet the modern learner great infographic  by  on edtech leadership innovati...</td>\n      <td>[meet, the, modern, learner, great, infographic, by, on, edtech, leadership,...</td>\n      <td>[meet, modern, learner, great, infograph, edtech, leadership, innov, educ, i...</td>\n      <td>[meet, modern, learner, great, infograph, edtech, leadership, innov, educ, i...</td>\n    </tr>\n    <tr>\n      <th>6014</th>\n      <td>9/30 Free Webinar! Overcoming the Challenge of Poorly Soluble Drugs http://t...</td>\n      <td>regular</td>\n      <td>free webinar overcoming the challenge of poorly soluble drugs    rapidfact ...</td>\n      <td>[free, webinar, overcoming, the, challenge, of, poorly, soluble, drugs, rapi...</td>\n      <td>[free, webinar, overcom, challeng, poorli, solubl, drug, rapidfact, pharma, ...</td>\n      <td>[free, webinar, overcom, challeng, poorli, solubl, drug, rapidfact, pharma, ...</td>\n    </tr>\n    <tr>\n      <th>6015</th>\n      <td>Boys &amp;amp; Girls is a webseries on #health, #sexual behaviour, #nutrition, #...</td>\n      <td>regular</td>\n      <td>boys amp girls is a webseries on health sexual behaviour nutrition alcohol a...</td>\n      <td>[boys, amp, girls, is, a, webseries, on, health, sexual, behaviour, nutritio...</td>\n      <td>[boy, amp, girl, webseri, health, sexual, behaviour, nutrit, alcohol, drug]</td>\n      <td>[boy, amp, girl, webseri, health, sexual, behaviour, nutrit, alcohol, drug]</td>\n    </tr>\n    <tr>\n      <th>6016</th>\n      <td>Drugs are like hugs. #addictiontakesthepainaway \\n#drugs #Addiction #pain #g...</td>\n      <td>regular</td>\n      <td>drugs are like hugs addictiontakesthepainaway drugs addiction pain grunge de...</td>\n      <td>[drugs, are, like, hugs, addictiontakesthepainaway, drugs, addiction, pain, ...</td>\n      <td>[drug, like, hug, addictiontakesthepainaway, drug, addict, pain, grung, depr...</td>\n      <td>[drug, like, hug, addictiontakesthepainaway, drug, addict, pain, grung, depr...</td>\n    </tr>\n    <tr>\n      <th>6017</th>\n      <td>Andy the train manager on the 8:27 frm MCR Picc to Bournemouth - What a joyf...</td>\n      <td>regular</td>\n      <td>andy the train manager on the  frm mcr picc to bournemouth  what a joyful so...</td>\n      <td>[andy, the, train, manager, on, the, frm, mcr, picc, to, bournemouth, what, ...</td>\n      <td>[andi, train, manag, frm, mcr, picc, bournemouth, joy, soul, cheer, tuesday,...</td>\n      <td>[andi, train, manag, frm, mcr, picc, bournemouth, joy, soul, cheer, tuesday,...</td>\n    </tr>\n    <tr>\n      <th>6018</th>\n      <td>#India 'Caste war' is back as politicians woo OBCs: NEW DELHI: In the run-up...</td>\n      <td>regular</td>\n      <td>india caste war is back as politicians woo obcs new delhi in the runup to th...</td>\n      <td>[india, caste, war, is, back, as, politicians, woo, obcs, new, delhi, in, th...</td>\n      <td>[india, cast, war, back, politician, woo, obc, new, delhi, runup, lok, sabha...</td>\n      <td>[india, cast, war, back, politician, woo, obc, new, delhi, runup, lok, sabha...</td>\n    </tr>\n    <tr>\n      <th>6019</th>\n      <td>AU #education #jobs Assistant Educator - Mermaid Waters: QLD-Mermaid Waters,...</td>\n      <td>regular</td>\n      <td>au education jobs assistant educator  mermaid waters qldmermaid waters fun f...</td>\n      <td>[au, education, jobs, assistant, educator, mermaid, waters, qldmermaid, wate...</td>\n      <td>[au, educ, job, assist, educ, mermaid, water, qldmermaid, water, fun, friend...</td>\n      <td>[au, educ, job, assist, educ, mermaid, water, qldmermaid, water, fun, friend...</td>\n    </tr>\n    <tr>\n      <th>6020</th>\n      <td>OH #GOPDebate comments: Apparently \"Jeb\" sounds like “penis” in Chinese. And...</td>\n      <td>regular</td>\n      <td>oh gopdebate comments apparently jeb sounds like “penis” in chinese and so m...</td>\n      <td>[oh, gopdebate, comments, apparently, jeb, sounds, like, “penis”, in, chines...</td>\n      <td>[oh, gopdeb, comment, appar, jeb, sound, like, “penis”, chines, million, peo...</td>\n      <td>[oh, gopdeb, comment, appar, jeb, sound, like, “penis”, chine, million, peop...</td>\n    </tr>\n    <tr>\n      <th>6021</th>\n      <td>All BMC #schools to include sex #education as part of the curriculum from cl...</td>\n      <td>regular</td>\n      <td>all bmc schools to include sex education as part of the curriculum from clas...</td>\n      <td>[all, bmc, schools, to, include, sex, education, as, part, of, the, curricul...</td>\n      <td>[bmc, school, includ, sex, educ, part, curriculum, class, viii, x]</td>\n      <td>[bmc, school, includ, sex, educ, part, curriculum, class, viii, x]</td>\n    </tr>\n    <tr>\n      <th>6022</th>\n      <td>Firm 'hides' school when recruits apply #socialmobility #school #education #...</td>\n      <td>regular</td>\n      <td>firm hides school when recruits apply socialmobility school education class</td>\n      <td>[firm, hides, school, when, recruits, apply, socialmobility, school, educati...</td>\n      <td>[firm, hide, school, recruit, appli, socialmobl, school, educ, class]</td>\n      <td>[firm, hide, school, recruit, appli, socialmobl, school, educ, class]</td>\n    </tr>\n  </tbody>\n</table>\n</div>"
     },
     "execution_count": 231,
     "metadata": {},
     "output_type": "execute_result"
    }
   ],
   "source": [
    "#data01_sarc.tail(10)"
   ],
   "metadata": {
    "collapsed": false,
    "pycharm": {
     "name": "#%%\n"
    }
   }
  },
  {
   "cell_type": "code",
   "execution_count": 239,
   "outputs": [
    {
     "data": {
      "text/plain": "                                                                               tweets  \\\n6013  Meet the Modern Learner! Great #Infographic  by @Deloitte on #EdTech #Leader...   \n6014  9/30 Free Webinar! Overcoming the Challenge of Poorly Soluble Drugs http://t...   \n6015  Boys &amp; Girls is a webseries on #health, #sexual behaviour, #nutrition, #...   \n6016  Drugs are like hugs. #addictiontakesthepainaway \\n#drugs #Addiction #pain #g...   \n6017  Andy the train manager on the 8:27 frm MCR Picc to Bournemouth - What a joyf...   \n6018  #India 'Caste war' is back as politicians woo OBCs: NEW DELHI: In the run-up...   \n6019  AU #education #jobs Assistant Educator - Mermaid Waters: QLD-Mermaid Waters,...   \n6020  OH #GOPDebate comments: Apparently \"Jeb\" sounds like “penis” in Chinese. And...   \n6021  All BMC #schools to include sex #education as part of the curriculum from cl...   \n6022  Firm 'hides' school when recruits apply #socialmobility #school #education #...   \n\n        class  \\\n6013  regular   \n6014  regular   \n6015  regular   \n6016  regular   \n6017  regular   \n6018  regular   \n6019  regular   \n6020  regular   \n6021  regular   \n6022  regular   \n\n                                                                         clean_tweets  \\\n6013  meet the modern learner great infographic  by  on edtech leadership innovati...   \n6014   free webinar overcoming the challenge of poorly soluble drugs    rapidfact ...   \n6015  boys amp girls is a webseries on health sexual behaviour nutrition alcohol a...   \n6016  drugs are like hugs addictiontakesthepainaway drugs addiction pain grunge de...   \n6017  andy the train manager on the  frm mcr picc to bournemouth  what a joyful so...   \n6018  india caste war is back as politicians woo obcs new delhi in the runup to th...   \n6019  au education jobs assistant educator  mermaid waters qldmermaid waters fun f...   \n6020  oh gopdebate comments apparently jeb sounds like “penis” in chinese and so m...   \n6021  all bmc schools to include sex education as part of the curriculum from clas...   \n6022     firm hides school when recruits apply socialmobility school education class    \n\n                                                                         tweets_token  \\\n6013  [meet, the, modern, learner, great, infographic, by, on, edtech, leadership,...   \n6014  [free, webinar, overcoming, the, challenge, of, poorly, soluble, drugs, rapi...   \n6015  [boys, amp, girls, is, a, webseries, on, health, sexual, behaviour, nutritio...   \n6016  [drugs, are, like, hugs, addictiontakesthepainaway, drugs, addiction, pain, ...   \n6017  [andy, the, train, manager, on, the, frm, mcr, picc, to, bournemouth, what, ...   \n6018  [india, caste, war, is, back, as, politicians, woo, obcs, new, delhi, in, th...   \n6019  [au, education, jobs, assistant, educator, mermaid, waters, qldmermaid, wate...   \n6020  [oh, gopdebate, comments, apparently, jeb, sounds, like, “penis”, in, chines...   \n6021  [all, bmc, schools, to, include, sex, education, as, part, of, the, curricul...   \n6022  [firm, hides, school, when, recruits, apply, socialmobility, school, educati...   \n\n                                                                         no_stopwords  \\\n6013  [meet, modern, learner, great, infographic, edtech, leadership, innovation, ...   \n6014  [free, webinar, overcoming, challenge, poorly, soluble, drugs, rapidfact, ph...   \n6015  [boys, amp, girls, webseries, health, sexual, behaviour, nutrition, alcohol,...   \n6016  [drugs, like, hugs, addictiontakesthepainaway, drugs, addiction, pain, grung...   \n6017  [andy, train, manager, frm, mcr, picc, bournemouth, joyful, soul, cheering, ...   \n6018  [india, caste, war, back, politicians, woo, obcs, new, delhi, runup, lok, sa...   \n6019  [au, education, jobs, assistant, educator, mermaid, waters, qldmermaid, wate...   \n6020  [oh, gopdebate, comments, apparently, jeb, sounds, like, “penis”, chinese, m...   \n6021        [bmc, schools, include, sex, education, part, curriculum, class, viii, x]   \n6022  [firm, hides, school, recruits, apply, socialmobility, school, education, cl...   \n\n                                                                         cleaned_text  \n6013  [meet, modern, learner, great, infographic, edtech, leadership, innovation, ...  \n6014  [free, webinar, overcoming, challenge, poorly, soluble, drug, rapidfact, pha...  \n6015  [boy, amp, girl, webseries, health, sexual, behaviour, nutrition, alcohol, d...  \n6016  [drug, like, hug, addictiontakesthepainaway, drug, addiction, pain, grunge, ...  \n6017  [andy, train, manager, frm, mcr, picc, bournemouth, joyful, soul, cheering, ...  \n6018  [india, caste, war, back, politician, woo, obcs, new, delhi, runup, lok, sab...  \n6019  [au, education, job, assistant, educator, mermaid, water, qldmermaid, water,...  \n6020  [oh, gopdebate, comment, apparently, jeb, sound, like, “penis”, chinese, mil...  \n6021         [bmc, school, include, sex, education, part, curriculum, class, viii, x]  \n6022   [firm, hide, school, recruit, apply, socialmobility, school, education, class]  ",
      "text/html": "<div>\n<style scoped>\n    .dataframe tbody tr th:only-of-type {\n        vertical-align: middle;\n    }\n\n    .dataframe tbody tr th {\n        vertical-align: top;\n    }\n\n    .dataframe thead th {\n        text-align: right;\n    }\n</style>\n<table border=\"1\" class=\"dataframe\">\n  <thead>\n    <tr style=\"text-align: right;\">\n      <th></th>\n      <th>tweets</th>\n      <th>class</th>\n      <th>clean_tweets</th>\n      <th>tweets_token</th>\n      <th>no_stopwords</th>\n      <th>cleaned_text</th>\n    </tr>\n  </thead>\n  <tbody>\n    <tr>\n      <th>6013</th>\n      <td>Meet the Modern Learner! Great #Infographic  by @Deloitte on #EdTech #Leader...</td>\n      <td>regular</td>\n      <td>meet the modern learner great infographic  by  on edtech leadership innovati...</td>\n      <td>[meet, the, modern, learner, great, infographic, by, on, edtech, leadership,...</td>\n      <td>[meet, modern, learner, great, infographic, edtech, leadership, innovation, ...</td>\n      <td>[meet, modern, learner, great, infographic, edtech, leadership, innovation, ...</td>\n    </tr>\n    <tr>\n      <th>6014</th>\n      <td>9/30 Free Webinar! Overcoming the Challenge of Poorly Soluble Drugs http://t...</td>\n      <td>regular</td>\n      <td>free webinar overcoming the challenge of poorly soluble drugs    rapidfact ...</td>\n      <td>[free, webinar, overcoming, the, challenge, of, poorly, soluble, drugs, rapi...</td>\n      <td>[free, webinar, overcoming, challenge, poorly, soluble, drugs, rapidfact, ph...</td>\n      <td>[free, webinar, overcoming, challenge, poorly, soluble, drug, rapidfact, pha...</td>\n    </tr>\n    <tr>\n      <th>6015</th>\n      <td>Boys &amp;amp; Girls is a webseries on #health, #sexual behaviour, #nutrition, #...</td>\n      <td>regular</td>\n      <td>boys amp girls is a webseries on health sexual behaviour nutrition alcohol a...</td>\n      <td>[boys, amp, girls, is, a, webseries, on, health, sexual, behaviour, nutritio...</td>\n      <td>[boys, amp, girls, webseries, health, sexual, behaviour, nutrition, alcohol,...</td>\n      <td>[boy, amp, girl, webseries, health, sexual, behaviour, nutrition, alcohol, d...</td>\n    </tr>\n    <tr>\n      <th>6016</th>\n      <td>Drugs are like hugs. #addictiontakesthepainaway \\n#drugs #Addiction #pain #g...</td>\n      <td>regular</td>\n      <td>drugs are like hugs addictiontakesthepainaway drugs addiction pain grunge de...</td>\n      <td>[drugs, are, like, hugs, addictiontakesthepainaway, drugs, addiction, pain, ...</td>\n      <td>[drugs, like, hugs, addictiontakesthepainaway, drugs, addiction, pain, grung...</td>\n      <td>[drug, like, hug, addictiontakesthepainaway, drug, addiction, pain, grunge, ...</td>\n    </tr>\n    <tr>\n      <th>6017</th>\n      <td>Andy the train manager on the 8:27 frm MCR Picc to Bournemouth - What a joyf...</td>\n      <td>regular</td>\n      <td>andy the train manager on the  frm mcr picc to bournemouth  what a joyful so...</td>\n      <td>[andy, the, train, manager, on, the, frm, mcr, picc, to, bournemouth, what, ...</td>\n      <td>[andy, train, manager, frm, mcr, picc, bournemouth, joyful, soul, cheering, ...</td>\n      <td>[andy, train, manager, frm, mcr, picc, bournemouth, joyful, soul, cheering, ...</td>\n    </tr>\n    <tr>\n      <th>6018</th>\n      <td>#India 'Caste war' is back as politicians woo OBCs: NEW DELHI: In the run-up...</td>\n      <td>regular</td>\n      <td>india caste war is back as politicians woo obcs new delhi in the runup to th...</td>\n      <td>[india, caste, war, is, back, as, politicians, woo, obcs, new, delhi, in, th...</td>\n      <td>[india, caste, war, back, politicians, woo, obcs, new, delhi, runup, lok, sa...</td>\n      <td>[india, caste, war, back, politician, woo, obcs, new, delhi, runup, lok, sab...</td>\n    </tr>\n    <tr>\n      <th>6019</th>\n      <td>AU #education #jobs Assistant Educator - Mermaid Waters: QLD-Mermaid Waters,...</td>\n      <td>regular</td>\n      <td>au education jobs assistant educator  mermaid waters qldmermaid waters fun f...</td>\n      <td>[au, education, jobs, assistant, educator, mermaid, waters, qldmermaid, wate...</td>\n      <td>[au, education, jobs, assistant, educator, mermaid, waters, qldmermaid, wate...</td>\n      <td>[au, education, job, assistant, educator, mermaid, water, qldmermaid, water,...</td>\n    </tr>\n    <tr>\n      <th>6020</th>\n      <td>OH #GOPDebate comments: Apparently \"Jeb\" sounds like “penis” in Chinese. And...</td>\n      <td>regular</td>\n      <td>oh gopdebate comments apparently jeb sounds like “penis” in chinese and so m...</td>\n      <td>[oh, gopdebate, comments, apparently, jeb, sounds, like, “penis”, in, chines...</td>\n      <td>[oh, gopdebate, comments, apparently, jeb, sounds, like, “penis”, chinese, m...</td>\n      <td>[oh, gopdebate, comment, apparently, jeb, sound, like, “penis”, chinese, mil...</td>\n    </tr>\n    <tr>\n      <th>6021</th>\n      <td>All BMC #schools to include sex #education as part of the curriculum from cl...</td>\n      <td>regular</td>\n      <td>all bmc schools to include sex education as part of the curriculum from clas...</td>\n      <td>[all, bmc, schools, to, include, sex, education, as, part, of, the, curricul...</td>\n      <td>[bmc, schools, include, sex, education, part, curriculum, class, viii, x]</td>\n      <td>[bmc, school, include, sex, education, part, curriculum, class, viii, x]</td>\n    </tr>\n    <tr>\n      <th>6022</th>\n      <td>Firm 'hides' school when recruits apply #socialmobility #school #education #...</td>\n      <td>regular</td>\n      <td>firm hides school when recruits apply socialmobility school education class</td>\n      <td>[firm, hides, school, when, recruits, apply, socialmobility, school, educati...</td>\n      <td>[firm, hides, school, recruits, apply, socialmobility, school, education, cl...</td>\n      <td>[firm, hide, school, recruit, apply, socialmobility, school, education, class]</td>\n    </tr>\n  </tbody>\n</table>\n</div>"
     },
     "execution_count": 239,
     "metadata": {},
     "output_type": "execute_result"
    }
   ],
   "source": [
    "data01_sarc['cleaned_text'] = data01_sarc['no_stopwords'].apply(lambda x: lemmatizing(x))\n",
    "data01_sarc.tail(10)"
   ],
   "metadata": {
    "collapsed": false,
    "pycharm": {
     "name": "#%%\n"
    }
   }
  },
  {
   "cell_type": "code",
   "execution_count": 246,
   "outputs": [
    {
     "name": "stdout",
     "output_type": "stream",
     "text": [
      "Stemming --> i\n",
      "lemmatizer --> I\n",
      "Stemming --> have\n",
      "lemmatizer --> have\n",
      "Stemming --> been\n",
      "lemmatizer --> been\n",
      "Stemming --> wait\n",
      "lemmatizer --> waiting\n",
      "Stemming --> overcom\n",
      "lemmatizer --> overcoming\n"
     ]
    }
   ],
   "source": [],
   "metadata": {
    "collapsed": false,
    "pycharm": {
     "name": "#%%\n"
    }
   }
  },
  {
   "cell_type": "code",
   "execution_count": null,
   "outputs": [],
   "source": [],
   "metadata": {
    "collapsed": false,
    "pycharm": {
     "name": "#%%\n"
    }
   }
  }
 ],
 "metadata": {
  "kernelspec": {
   "display_name": "Python 3",
   "language": "python",
   "name": "python3"
  },
  "language_info": {
   "codemirror_mode": {
    "name": "ipython",
    "version": 2
   },
   "file_extension": ".py",
   "mimetype": "text/x-python",
   "name": "python",
   "nbconvert_exporter": "python",
   "pygments_lexer": "ipython2",
   "version": "2.7.6"
  }
 },
 "nbformat": 4,
 "nbformat_minor": 0
}