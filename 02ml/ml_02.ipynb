{
  "nbformat": 4,
  "nbformat_minor": 0,
  "metadata": {
    "colab": {
      "name": "ml-02.ipynb",
      "provenance": [],
      "collapsed_sections": [],
      "authorship_tag": "ABX9TyNyCIBqhy/VKLDz6pQFBx4h",
      "include_colab_link": true
    },
    "kernelspec": {
      "name": "python3",
      "display_name": "Python 3"
    }
  },
  "cells": [
    {
      "cell_type": "markdown",
      "metadata": {
        "id": "view-in-github",
        "colab_type": "text"
      },
      "source": [
        "<a href=\"https://colab.research.google.com/github/dsaha78/mtech/blob/main/02ml/ml_02.ipynb\" target=\"_parent\"><img src=\"https://colab.research.google.com/assets/colab-badge.svg\" alt=\"Open In Colab\"/></a>"
      ]
    },
    {
      "cell_type": "code",
      "metadata": {
        "id": "cC_eolTujrHz"
      },
      "source": [
        "import pandas as pd"
      ],
      "execution_count": 13,
      "outputs": []
    },
    {
      "cell_type": "code",
      "metadata": {
        "colab": {
          "base_uri": "https://localhost:8080/"
        },
        "id": "FEk6NCwNnYYC",
        "outputId": "6a93a2a4-22bc-47a1-fcd1-08b267d7de59"
      },
      "source": [
        "xlsx = pd.ExcelFile('https://raw.githubusercontent.com/dsaha78/mtech/main/02ml/input/Plant_Tree_data.xlsx')\n",
        "dataset = pd.read_excel(xlsx, 'Sheet1',header=0)\n",
        "print(dataset.head)"
      ],
      "execution_count": 12,
      "outputs": [
        {
          "output_type": "stream",
          "text": [
            "<bound method NDFrame.head of        LeafLength  LeafBreadth  ...  TreeLength  TreeType\n",
            "0      140.562500    55.683782  ...   74.242225         0\n",
            "1      102.507812    58.882430  ...  127.393580         0\n",
            "2      103.015625    39.341649  ...   63.171909         0\n",
            "3      136.750000    57.178449  ...   53.593661         0\n",
            "4       88.726562    40.672225  ...  252.567306         0\n",
            "...           ...          ...  ...         ...       ...\n",
            "17893  136.429688    59.847421  ...  285.931022         0\n",
            "17894  122.554688    49.485605  ...    8.297092         0\n",
            "17895  119.335938    59.935939  ...    4.595173         0\n",
            "17896  114.507812    53.902400  ...  134.238910         0\n",
            "17897   57.062500    85.797340  ...    1.429475         0\n",
            "\n",
            "[17898 rows x 9 columns]>\n"
          ],
          "name": "stdout"
        }
      ]
    }
  ]
}