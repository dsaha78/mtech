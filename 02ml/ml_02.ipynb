{
  "nbformat": 4,
  "nbformat_minor": 0,
  "metadata": {
    "colab": {
      "name": "ml-02.ipynb",
      "provenance": [],
      "collapsed_sections": [],
      "authorship_tag": "ABX9TyO1wuyXwEsRE2x2LNDuSFg5"
    },
    "kernelspec": {
      "name": "python3",
      "display_name": "Python 3"
    }
  },
  "cells": [
    {
      "cell_type": "code",
      "metadata": {
        "id": "cC_eolTujrHz"
      },
      "source": [
        "import pandas as pd\r\n",
        "import numpy as np"
      ],
      "execution_count": 2,
      "outputs": []
    },
    {
      "cell_type": "code",
      "metadata": {
        "colab": {
          "base_uri": "https://localhost:8080/"
        },
        "id": "FEk6NCwNnYYC",
        "outputId": "481a2385-8894-43b6-f114-6a6fa4c9f7a5"
      },
      "source": [
        "xlsx = pd.ExcelFile('https://raw.githubusercontent.com/dsaha78/mtech/main/02ml/input/Plant_Tree_data.xlsx')\n",
        "dataset = pd.read_excel(xlsx, 'Sheet1')\n",
        "print(dataset.head)"
      ],
      "execution_count": 3,
      "outputs": [
        {
          "output_type": "stream",
          "text": [
            "<bound method NDFrame.head of        LeafLength  LeafBreadth  ...  TreeLength  TreeType\n",
            "0      140.562500    55.683782  ...   74.242225         0\n",
            "1      102.507812    58.882430  ...  127.393580         0\n",
            "2      103.015625    39.341649  ...   63.171909         0\n",
            "3      136.750000    57.178449  ...   53.593661         0\n",
            "4       88.726562    40.672225  ...  252.567306         0\n",
            "...           ...          ...  ...         ...       ...\n",
            "17893  136.429688    59.847421  ...  285.931022         0\n",
            "17894  122.554688    49.485605  ...    8.297092         0\n",
            "17895  119.335938    59.935939  ...    4.595173         0\n",
            "17896  114.507812    53.902400  ...  134.238910         0\n",
            "17897   57.062500    85.797340  ...    1.429475         0\n",
            "\n",
            "[17898 rows x 9 columns]>\n"
          ],
          "name": "stdout"
        }
      ]
    },
    {
      "cell_type": "markdown",
      "metadata": {
        "id": "8nylAUETKe28"
      },
      "source": [
        "Checking if we have null or missing value"
      ]
    },
    {
      "cell_type": "code",
      "metadata": {
        "colab": {
          "base_uri": "https://localhost:8080/"
        },
        "id": "fxqAp5bOKRXf",
        "outputId": "0343a7ab-43b5-498b-f52f-e6d01e417fb7"
      },
      "source": [
        "dataset.isnull().sum()"
      ],
      "execution_count": 4,
      "outputs": [
        {
          "output_type": "execute_result",
          "data": {
            "text/plain": [
              "LeafLength            0\n",
              "LeafBreadth           0\n",
              "ErrorLeafLength       0\n",
              "ErrorLeafBreadth      0\n",
              "LeafCurveAngle        0\n",
              "EdgeCurvatureAngle    0\n",
              "ErrorLeafCurvature    0\n",
              "TreeLength            0\n",
              "TreeType              0\n",
              "dtype: int64"
            ]
          },
          "metadata": {
            "tags": []
          },
          "execution_count": 4
        }
      ]
    },
    {
      "cell_type": "markdown",
      "metadata": {
        "id": "T106OmLfKpyB"
      },
      "source": [
        "Split features and labels [0.5M]"
      ]
    },
    {
      "cell_type": "code",
      "metadata": {
        "colab": {
          "base_uri": "https://localhost:8080/"
        },
        "id": "Jf-QzHE4Ksx0",
        "outputId": "1b0ffe57-1119-4b28-d9fe-8d8082e3f35d"
      },
      "source": [
        "X = dataset.iloc[:,:-1].values\r\n",
        "print('Independet Variables:')\r\n",
        "print(X)\r\n",
        "print()\r\n",
        "\r\n",
        "Y = dataset.iloc[:,-1].values\r\n",
        "print('Dependet Variables:')\r\n",
        "print(Y)\r\n",
        "print()"
      ],
      "execution_count": 5,
      "outputs": [
        {
          "output_type": "stream",
          "text": [
            "Independet Variables:\n",
            "[[140.5625      55.68378214  -0.23457141 ...  19.11042633   7.97553179\n",
            "   74.24222492]\n",
            " [102.5078125   58.88243001   0.46531815 ...  14.86014572  10.57648674\n",
            "  127.3935796 ]\n",
            " [103.015625    39.34164944   0.32332837 ...  21.74466875   7.73582202\n",
            "   63.17190911]\n",
            " ...\n",
            " [119.3359375   59.93593941   0.1593631  ...  58.8720002    2.49951714\n",
            "    4.59517265]\n",
            " [114.5078125   53.90239966   0.20116138 ...  13.38173065  10.00796731\n",
            "  134.2389095 ]\n",
            " [ 57.0625      85.79734025   1.40639105 ...  64.71256228  -1.59752658\n",
            "    1.42947536]]\n",
            "\n",
            "Dependet Variables:\n",
            "[0 0 0 ... 0 0 0]\n",
            "\n"
          ],
          "name": "stdout"
        }
      ]
    },
    {
      "cell_type": "markdown",
      "metadata": {
        "id": "A1dFd_ncKxGh"
      },
      "source": [
        " Split train and test data [0.5M]"
      ]
    },
    {
      "cell_type": "code",
      "metadata": {
        "colab": {
          "base_uri": "https://localhost:8080/"
        },
        "id": "9qt_JFkJKzTT",
        "outputId": "4bb62463-9a52-4f82-e75e-c153cef77012"
      },
      "source": [
        "from sklearn.model_selection import train_test_split\r\n",
        "X_train, X_test, y_train, y_test = train_test_split(X, Y, test_size = 0.2, random_state = 101)\r\n",
        "print(\"X_train shape:\", X_train.shape)\r\n",
        "print(\"X_test shape\", X_test.shape)\r\n",
        "print(\"y_train shape:\", y_train.shape)\r\n",
        "print(\"y_test shape: {}\", y_test.shape)"
      ],
      "execution_count": 24,
      "outputs": [
        {
          "output_type": "stream",
          "text": [
            "X_train shape: (14318, 8)\n",
            "X_test shape (3580, 8)\n",
            "y_train shape: (14318,)\n",
            "y_test shape: {} (3580,)\n"
          ],
          "name": "stdout"
        }
      ]
    },
    {
      "cell_type": "markdown",
      "metadata": {
        "id": "EzaoCrlML_KD"
      },
      "source": [
        "# Implementation of Random Forest Classifier with scikit."
      ]
    },
    {
      "cell_type": "code",
      "metadata": {
        "id": "vw385i8ML9pK"
      },
      "source": [
        "from sklearn.ensemble import RandomForestClassifier\r\n",
        "classifier=RandomForestClassifier()\r\n",
        "classifier.fit(X_train,y_train)\r\n",
        "## Prediction\r\n",
        "y_pred=classifier.predict(X_test)"
      ],
      "execution_count": 25,
      "outputs": []
    },
    {
      "cell_type": "markdown",
      "metadata": {
        "id": "kJRCFtetMTxU"
      },
      "source": [
        "# Calulate Accurecy"
      ]
    },
    {
      "cell_type": "code",
      "metadata": {
        "colab": {
          "base_uri": "https://localhost:8080/"
        },
        "id": "dYD5xDyaMZn6",
        "outputId": "40ef06fe-3308-4d23-83c2-a47a15c94e19"
      },
      "source": [
        "from sklearn.metrics import accuracy_score\r\n",
        "from sklearn.metrics import mean_absolute_error\r\n",
        "## compute and print Accuracy\r\n",
        "score=accuracy_score(y_test,y_pred)\r\n",
        "print('Accuracy: {:2f}%'.format(score * 100))\r\n",
        "error=mean_absolute_error(y_test,y_pred)\r\n",
        "print('Error Rate: {:2f}%'.format(error * 100))"
      ],
      "execution_count": 26,
      "outputs": [
        {
          "output_type": "stream",
          "text": [
            "Accuracy: 98.324022%\n",
            "Error Rate: 1.675978%\n"
          ],
          "name": "stdout"
        }
      ]
    },
    {
      "cell_type": "code",
      "metadata": {
        "colab": {
          "base_uri": "https://localhost:8080/",
          "height": 340
        },
        "id": "nqckqLRFMert",
        "outputId": "6f2c0915-ad43-4896-c264-3c0c96d0cf2d"
      },
      "source": [
        "from sklearn.metrics import confusion_matrix\r\n",
        "import matplotlib.pyplot as plt\r\n",
        "import seaborn as sb\r\n",
        "random_forest_confusion_matrix = confusion_matrix(y_test, y_pred)\r\n",
        "#Plot the confusion matrix.\r\n",
        "class_names = ['Fake','Authentic']\r\n",
        "fig, ax = plt.subplots()\r\n",
        "tick_marks = np.arange(len(class_names))\r\n",
        "plt.xticks(tick_marks, class_names)\r\n",
        "plt.yticks(tick_marks, class_names)\r\n",
        "sb.heatmap(pd.DataFrame(random_forest_confusion_matrix), annot = True,\r\n",
        "cmap='YlGnBu', fmt='g')\r\n",
        "ax.xaxis.set_label_position('top')\r\n",
        "plt.tight_layout()\r\n",
        "plt.title('Confusion Matrix\\n')\r\n",
        "plt.ylabel('Actual label')\r\n",
        "plt.xlabel('Predicted label')\r\n",
        "plt.show()"
      ],
      "execution_count": 10,
      "outputs": [
        {
          "output_type": "display_data",
          "data": {
            "image/png": "[encoded data removed]",
            "text/plain": [
              "<Figure size 432x288 with 2 Axes>"
            ]
          },
          "metadata": {
            "tags": [],
            "needs_background": "light"
          }
        }
      ]
    },
    {
      "cell_type": "markdown",
      "metadata": {
        "id": "vuweRIkQMo33"
      },
      "source": [
        "## Nural network with keras."
      ]
    },
    {
      "cell_type": "code",
      "metadata": {
        "id": "PgjPmVH_MunH"
      },
      "source": [
        "import keras\r\n",
        "from keras.models import Model, Sequential\r\n",
        "from keras.layers import Dense, Activation\r\n",
        "import keras.backend as K\r\n",
        "from keras.optimizers import Adam\r\n",
        "from keras import optimizers"
      ],
      "execution_count": 11,
      "outputs": []
    },
    {
      "cell_type": "code",
      "metadata": {
        "id": "FPL6CKf-M3o8"
      },
      "source": [
        "#Clear the session\r\n",
        "K.clear_session()"
      ],
      "execution_count": null,
      "outputs": []
    },
    {
      "cell_type": "code",
      "metadata": {
        "id": "OyRIgfLkM6fh"
      },
      "source": [
        "#Construct the model\r\n",
        "nin = X_train.shape[1]\r\n",
        "nout = np.max(y_train) + 1\r\n",
        "nh = 100\r\n",
        "model = Sequential()\r\n",
        "model.add(Dense(nh, input_shape=(nin, ), activation='relu', name= 'fc1'))\r\n",
        "model.add(Dense(nh, activation='relu', name='fc2'))\r\n",
        "model.add(Dense(nout, activation = 'softmax', name = 'output'))"
      ],
      "execution_count": 12,
      "outputs": []
    },
    {
      "cell_type": "code",
      "metadata": {
        "colab": {
          "base_uri": "https://localhost:8080/"
        },
        "id": "4VsY9k9OM_QK",
        "outputId": "6e72ad41-420a-45c1-8b21-4e48875e71b9"
      },
      "source": [
        "model.summary()"
      ],
      "execution_count": 13,
      "outputs": [
        {
          "output_type": "stream",
          "text": [
            "Model: \"sequential\"\n",
            "_________________________________________________________________\n",
            "Layer (type)                 Output Shape              Param #   \n",
            "=================================================================\n",
            "fc1 (Dense)                  (None, 100)               900       \n",
            "_________________________________________________________________\n",
            "fc2 (Dense)                  (None, 100)               10100     \n",
            "_________________________________________________________________\n",
            "output (Dense)               (None, 2)                 202       \n",
            "=================================================================\n",
            "Total params: 11,202\n",
            "Trainable params: 11,202\n",
            "Non-trainable params: 0\n",
            "_________________________________________________________________\n"
          ],
          "name": "stdout"
        }
      ]
    },
    {
      "cell_type": "code",
      "metadata": {
        "id": "MK3Z51tXNE4t"
      },
      "source": [
        "opt = optimizers.Adam(lr = 0.001)\r\n",
        "model.compile(optimizer=opt, loss = 'sparse_categorical_crossentropy', metrics=['accuracy'])"
      ],
      "execution_count": 14,
      "outputs": []
    },
    {
      "cell_type": "code",
      "metadata": {
        "colab": {
          "base_uri": "https://localhost:8080/"
        },
        "id": "m0KIowlTNJBn",
        "outputId": "a0d24ae0-63de-4380-b893-fc05bb8feca5"
      },
      "source": [
        "batch_size = 100\r\n",
        "model.fit(X_train, y_train, epochs = 10, batch_size=batch_size, validation_data=(X_test, y_test))\r\n",
        "results = model.evaluate(X_test, y_test)"
      ],
      "execution_count": 15,
      "outputs": [
        {
          "output_type": "stream",
          "text": [
            "Epoch 1/10\n",
            "144/144 [==============================] - 1s 5ms/step - loss: 0.3625 - accuracy: 0.9398 - val_loss: 0.0883 - val_accuracy: 0.9788\n",
            "Epoch 2/10\n",
            "144/144 [==============================] - 0s 2ms/step - loss: 0.1227 - accuracy: 0.9709 - val_loss: 0.1662 - val_accuracy: 0.9726\n",
            "Epoch 3/10\n",
            "144/144 [==============================] - 0s 2ms/step - loss: 0.1631 - accuracy: 0.9682 - val_loss: 0.0870 - val_accuracy: 0.9779\n",
            "Epoch 4/10\n",
            "144/144 [==============================] - 0s 2ms/step - loss: 0.1247 - accuracy: 0.9690 - val_loss: 0.0782 - val_accuracy: 0.9749\n",
            "Epoch 5/10\n",
            "144/144 [==============================] - 0s 2ms/step - loss: 0.0915 - accuracy: 0.9739 - val_loss: 0.1252 - val_accuracy: 0.9648\n",
            "Epoch 6/10\n",
            "144/144 [==============================] - 0s 2ms/step - loss: 0.1090 - accuracy: 0.9705 - val_loss: 0.0896 - val_accuracy: 0.9751\n",
            "Epoch 7/10\n",
            "144/144 [==============================] - 0s 2ms/step - loss: 0.1041 - accuracy: 0.9728 - val_loss: 0.0971 - val_accuracy: 0.9802\n",
            "Epoch 8/10\n",
            "144/144 [==============================] - 0s 2ms/step - loss: 0.0996 - accuracy: 0.9750 - val_loss: 0.0876 - val_accuracy: 0.9791\n",
            "Epoch 9/10\n",
            "144/144 [==============================] - 0s 2ms/step - loss: 0.1109 - accuracy: 0.9726 - val_loss: 0.0877 - val_accuracy: 0.9760\n",
            "Epoch 10/10\n",
            "144/144 [==============================] - 0s 2ms/step - loss: 0.0990 - accuracy: 0.9735 - val_loss: 0.0888 - val_accuracy: 0.9768\n",
            "112/112 [==============================] - 0s 952us/step - loss: 0.0888 - accuracy: 0.9768\n"
          ],
          "name": "stdout"
        }
      ]
    },
    {
      "cell_type": "code",
      "metadata": {
        "colab": {
          "base_uri": "https://localhost:8080/"
        },
        "id": "U2VgBoIJNNEY",
        "outputId": "4527f8fa-90e6-473e-d36d-be1ada751fde"
      },
      "source": [
        "print('Final test set loss: {:2f}%'.format(results[0] * 100))\r\n",
        "print('Final test set accuracy: {:2f}%'.format(results[1] * 100))"
      ],
      "execution_count": 16,
      "outputs": [
        {
          "output_type": "stream",
          "text": [
            "Final test set loss: 8.878711%\n",
            "Final test set accuracy: 97.681564%\n"
          ],
          "name": "stdout"
        }
      ]
    },
    {
      "cell_type": "code",
      "metadata": {
        "id": "smRpVqpYNS9o"
      },
      "source": [
        "#Clear the session\r\n",
        "K.clear_session()\r\n",
        "#Construct the model\r\n",
        "nin = X_train.shape[1]\r\n",
        "nout = np.max(y_train) + 1\r\n",
        "nh = 100\r\n",
        "model = Sequential()\r\n",
        "model.add(Dense(nh, input_shape=(nin, ), activation='relu', name= 'fc1'))\r\n",
        "model.add(Dense(nh, activation='relu', name='fc2'))\r\n",
        "model.add(Dense(nout, activation = 'softmax', name = 'output'))"
      ],
      "execution_count": 17,
      "outputs": []
    },
    {
      "cell_type": "code",
      "metadata": {
        "colab": {
          "base_uri": "https://localhost:8080/"
        },
        "id": "DR3nqioFNWgM",
        "outputId": "2c3a8db3-c4e7-41bf-db89-aef883cfff4f"
      },
      "source": [
        "#Learning rate as 0.01\r\n",
        "opt = optimizers.Adam(lr = 0.01)\r\n",
        "model.compile(optimizer=opt, loss = 'sparse_categorical_crossentropy', metrics=['accuracy'])\r\n",
        "batch_size = 100\r\n",
        "model.fit(X_train, y_train, epochs = 10, batch_size=batch_size, validation_data=(X_test, y_test))\r\n",
        "results = model.evaluate(X_test, y_test)"
      ],
      "execution_count": 19,
      "outputs": [
        {
          "output_type": "stream",
          "text": [
            "Epoch 1/10\n",
            "144/144 [==============================] - 1s 3ms/step - loss: 1.1877 - accuracy: 0.9345 - val_loss: 0.0754 - val_accuracy: 0.9793\n",
            "Epoch 2/10\n",
            "144/144 [==============================] - 0s 2ms/step - loss: 0.1068 - accuracy: 0.9728 - val_loss: 0.0900 - val_accuracy: 0.9788\n",
            "Epoch 3/10\n",
            "144/144 [==============================] - 0s 2ms/step - loss: 0.0947 - accuracy: 0.9734 - val_loss: 0.0965 - val_accuracy: 0.9743\n",
            "Epoch 4/10\n",
            "144/144 [==============================] - 0s 2ms/step - loss: 0.0965 - accuracy: 0.9745 - val_loss: 0.0714 - val_accuracy: 0.9799\n",
            "Epoch 5/10\n",
            "144/144 [==============================] - 0s 2ms/step - loss: 0.0882 - accuracy: 0.9756 - val_loss: 0.1020 - val_accuracy: 0.9709\n",
            "Epoch 6/10\n",
            "144/144 [==============================] - 0s 2ms/step - loss: 0.0941 - accuracy: 0.9744 - val_loss: 0.0741 - val_accuracy: 0.9777\n",
            "Epoch 7/10\n",
            "144/144 [==============================] - 0s 2ms/step - loss: 0.0874 - accuracy: 0.9762 - val_loss: 0.0720 - val_accuracy: 0.9785\n",
            "Epoch 8/10\n",
            "144/144 [==============================] - 0s 2ms/step - loss: 0.0806 - accuracy: 0.9770 - val_loss: 0.0777 - val_accuracy: 0.9763\n",
            "Epoch 9/10\n",
            "144/144 [==============================] - 0s 3ms/step - loss: 0.0841 - accuracy: 0.9748 - val_loss: 0.0727 - val_accuracy: 0.9785\n",
            "Epoch 10/10\n",
            "144/144 [==============================] - 0s 2ms/step - loss: 0.0851 - accuracy: 0.9767 - val_loss: 0.0713 - val_accuracy: 0.9793\n",
            "112/112 [==============================] - 0s 902us/step - loss: 0.0713 - accuracy: 0.9793\n"
          ],
          "name": "stdout"
        }
      ]
    },
    {
      "cell_type": "code",
      "metadata": {
        "colab": {
          "base_uri": "https://localhost:8080/"
        },
        "id": "9FlnTOdZPJ81",
        "outputId": "ac69e3a5-7df7-4fa9-fd9b-724f7f812142"
      },
      "source": [
        "print('Final test set loss: {:2f}%'.format(results[0] * 100))\r\n",
        "print('Final test set accuracy: {:2f}%'.format(results[1] * 100))"
      ],
      "execution_count": 27,
      "outputs": [
        {
          "output_type": "stream",
          "text": [
            "Final test set loss: 7.125445%\n",
            "Final test set accuracy: 97.932959%\n"
          ],
          "name": "stdout"
        }
      ]
    }
  ]
}