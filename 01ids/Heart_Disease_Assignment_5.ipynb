{
 "cells": [
  {
   "cell_type": "markdown",
   "metadata": {
    "id": "23Sy4Z7Y7h92"
   },
   "source": [
    "## Assignment 5\n",
    "### Objective: Identify presence of heart disease.\n",
    "\n",
    "#### Dataset\n",
    "Data: https://www.kaggle.com/ronitf/heart-disease-uci\n",
    "\n",
    "##### Possible Work to be done\n",
    "1.\tWhat is the primary objective that you are addressing and why?\n",
    "2.\tFor all the independent variables given, state the discrete variables and their types (For example Nominal/Ordinal …).\n",
    "3.\tFind the independent variables which are good candidates for data transformation\n",
    "4.\tTransform any one variable which is interval/ratio to categorical variable\n",
    "5.\tTransform any one variable which is interval/ratio to ordinal variable\n",
    "6.\tIs there any association between any two interval/ratio variable. How will you go about it?\n",
    "7.\tWhich graph type would you prefer to use for visualizing each variable\n",
    "8.\tWhat will be your criteria to select the classification algorithm?\n",
    "9.\tHow will you evaluate the performance of two classifier that you investigated and state which is better\n",
    "10. Can you deploy your model in real time? What are the challenges?\n"
   ]
  },
  {
   "cell_type": "code",
   "execution_count": 1,
   "metadata": {
    "id": "_29McNyd7h99"
   },
   "outputs": [],
   "source": [
    "import numpy as np\n",
    "import pandas as pd"
   ]
  },
  {
   "cell_type": "code",
   "execution_count": 2,
   "metadata": {
    "id": "e711-Kdk7h-B",
    "outputId": "235d1276-9785-4fa9-ae54-b4b257b0e087"
   },
   "outputs": [
    {
     "name": "stdout",
     "output_type": "stream",
     "text": [
      "The data set has 303 rows and 14 columns\n"
     ]
    }
   ],
   "source": [
    "heart_disease_dataset = pd.read_csv(\"./heart.csv\") \n",
    "print(\"The data set has {} rows and {} columns\".\n",
    "      format(heart_disease_dataset.shape[0],\n",
    "             heart_disease_dataset.shape[1]))"
   ]
  },
  {
   "cell_type": "markdown",
   "metadata": {
    "id": "VZVNgk_M7h-C"
   },
   "source": [
    "### 1.\tWhat is the primary objective that you are addressing and why?"
   ]
  },
  {
   "cell_type": "markdown",
   "metadata": {
    "id": "YXRN5e847h-C"
   },
   "source": [
    "This dataset gives a number of variables along with a target condition of having or not having heart disease. \n",
    "#### Our \"primary objective\" is to use this data set and build a machine learning model which would help doctors to predict the presence of heart disease in the patient."
   ]
  },
  {
   "cell_type": "markdown",
   "metadata": {
    "id": "KLli8FY27h-C"
   },
   "source": [
    "### 2. For all the independent variables given, state the discrete variables and their types (For example Nominal/Ordinal …)."
   ]
  },
  {
   "cell_type": "code",
   "execution_count": 3,
   "metadata": {
    "id": "F5Q-ekxv7h-C",
    "outputId": "647435d8-1725-4595-c8ed-b1c15a747992"
   },
   "outputs": [
    {
     "data": {
      "text/plain": [
       "age          41\n",
       "sex           2\n",
       "cp            4\n",
       "trestbps     49\n",
       "chol        152\n",
       "fbs           2\n",
       "restecg       3\n",
       "thalach      91\n",
       "exang         2\n",
       "oldpeak      40\n",
       "slope         3\n",
       "ca            5\n",
       "thal          4\n",
       "target        2\n",
       "dtype: int64"
      ]
     },
     "execution_count": 3,
     "metadata": {},
     "output_type": "execute_result"
    }
   ],
   "source": [
    "# Find the uniqe values of each variable.\n",
    "heart_disease_dataset.nunique()"
   ]
  },
  {
   "cell_type": "markdown",
   "metadata": {
    "id": "90DXiYUo7h-D"
   },
   "source": [
    "Considering unique values of columns, there are 13 independent variables and 1 target variable. Out of 13 independent 8 variables are discrete and 5 continuous. \n",
    "\n",
    "### Discrete Independent Variables and Types (Total 8 Discrete variables)\n",
    "\n",
    "#### A. Nominal , Binary\n",
    "1. sex (0 = female; 1 = male)\n",
    "2. fbs: Fasting blood sugar > 120 mg/dl (0 = no; 1 = yes)\n",
    "3. exang: Exercise induced angina (0 = no; 1 = yes)\n",
    "\n",
    "#### B. Nominal , Categorical\n",
    "1. cp: Chest pain type (0 = Asymptomatic angina; 1 = Atypical angina; 2 = Non-angina; 3 = Typical angina)\n",
    "2. restecg: Resting ECG (0 = Left ventricular hypertrophy; 1 = Normal; 2 = ST-T wave abnormality)\n",
    "3. slope: Slope of the peak exercise ST segment (0 = downsloping; 1 = upsloping; 2 = flat)\n",
    "4. thal: Thalium stress test result (0 = NA; 1 = Fixed defect; 2 = Normal; 3 = Reversible defect)\n",
    "\n",
    "#### C. Ordinal\n",
    "1. ca: number of major vessels (0-3)\n",
    "\n",
    "\n",
    "\n",
    "\n",
    "### Continuous variables ( Total 5 Continuous variables)\n",
    "1. age - The person's age in years\n",
    "2. chol - The person's cholesterol measurement in mg/dl\n",
    "3. trestbps - The person's resting blood pressure\n",
    "4. thalach - The person's maximum heart rate achieved\n",
    "5. oldpeak - ST depression induced by exercise relative to rest"
   ]
  },
  {
   "cell_type": "markdown",
   "metadata": {
    "id": "8dP9mJUS7h-D"
   },
   "source": [
    "### 3.\tFind the independent variables which are good candidates for data transformation"
   ]
  },
  {
   "cell_type": "markdown",
   "metadata": {
    "id": "YvRsSLdm7h-D"
   },
   "source": [
    "#### Update discrete attribute values (features) for better readability & plotting."
   ]
  },
  {
   "cell_type": "code",
   "execution_count": 4,
   "metadata": {
    "id": "o_-uHtYp7h-E",
    "outputId": "46fc891e-011a-436c-8e04-ce14dc39c2e4"
   },
   "outputs": [
    {
     "data": {
      "text/html": [
       "<div>\n",
       "<style scoped>\n",
       "    .dataframe tbody tr th:only-of-type {\n",
       "        vertical-align: middle;\n",
       "    }\n",
       "\n",
       "    .dataframe tbody tr th {\n",
       "        vertical-align: top;\n",
       "    }\n",
       "\n",
       "    .dataframe thead th {\n",
       "        text-align: right;\n",
       "    }\n",
       "</style>\n",
       "<table border=\"1\" class=\"dataframe\">\n",
       "  <thead>\n",
       "    <tr style=\"text-align: right;\">\n",
       "      <th></th>\n",
       "      <th>age</th>\n",
       "      <th>sex</th>\n",
       "      <th>cp</th>\n",
       "      <th>trestbps</th>\n",
       "      <th>chol</th>\n",
       "      <th>fbs</th>\n",
       "      <th>restecg</th>\n",
       "      <th>thalach</th>\n",
       "      <th>exang</th>\n",
       "      <th>oldpeak</th>\n",
       "      <th>slope</th>\n",
       "      <th>ca</th>\n",
       "      <th>thal</th>\n",
       "      <th>target</th>\n",
       "    </tr>\n",
       "  </thead>\n",
       "  <tbody>\n",
       "    <tr>\n",
       "      <th>0</th>\n",
       "      <td>63</td>\n",
       "      <td>male</td>\n",
       "      <td>asymptomatic</td>\n",
       "      <td>145</td>\n",
       "      <td>233</td>\n",
       "      <td>&lt; 120 mg/dl</td>\n",
       "      <td>normal</td>\n",
       "      <td>150</td>\n",
       "      <td>no</td>\n",
       "      <td>2.3</td>\n",
       "      <td>upsloping</td>\n",
       "      <td>0</td>\n",
       "      <td>normal 1</td>\n",
       "      <td>disease</td>\n",
       "    </tr>\n",
       "    <tr>\n",
       "      <th>1</th>\n",
       "      <td>37</td>\n",
       "      <td>male</td>\n",
       "      <td>non-anginal</td>\n",
       "      <td>130</td>\n",
       "      <td>250</td>\n",
       "      <td>&gt; 120 mg/dl</td>\n",
       "      <td>ST-T wave abnormality</td>\n",
       "      <td>187</td>\n",
       "      <td>no</td>\n",
       "      <td>3.5</td>\n",
       "      <td>upsloping</td>\n",
       "      <td>0</td>\n",
       "      <td>fixed defect</td>\n",
       "      <td>disease</td>\n",
       "    </tr>\n",
       "    <tr>\n",
       "      <th>2</th>\n",
       "      <td>41</td>\n",
       "      <td>female</td>\n",
       "      <td>atypical angina</td>\n",
       "      <td>130</td>\n",
       "      <td>204</td>\n",
       "      <td>&gt; 120 mg/dl</td>\n",
       "      <td>normal</td>\n",
       "      <td>172</td>\n",
       "      <td>no</td>\n",
       "      <td>1.4</td>\n",
       "      <td>downsloping</td>\n",
       "      <td>0</td>\n",
       "      <td>fixed defect</td>\n",
       "      <td>disease</td>\n",
       "    </tr>\n",
       "    <tr>\n",
       "      <th>3</th>\n",
       "      <td>56</td>\n",
       "      <td>male</td>\n",
       "      <td>atypical angina</td>\n",
       "      <td>120</td>\n",
       "      <td>236</td>\n",
       "      <td>&gt; 120 mg/dl</td>\n",
       "      <td>ST-T wave abnormality</td>\n",
       "      <td>178</td>\n",
       "      <td>no</td>\n",
       "      <td>0.8</td>\n",
       "      <td>downsloping</td>\n",
       "      <td>0</td>\n",
       "      <td>fixed defect</td>\n",
       "      <td>disease</td>\n",
       "    </tr>\n",
       "    <tr>\n",
       "      <th>4</th>\n",
       "      <td>57</td>\n",
       "      <td>female</td>\n",
       "      <td>typical angina</td>\n",
       "      <td>120</td>\n",
       "      <td>354</td>\n",
       "      <td>&gt; 120 mg/dl</td>\n",
       "      <td>ST-T wave abnormality</td>\n",
       "      <td>163</td>\n",
       "      <td>yes</td>\n",
       "      <td>0.6</td>\n",
       "      <td>downsloping</td>\n",
       "      <td>0</td>\n",
       "      <td>fixed defect</td>\n",
       "      <td>disease</td>\n",
       "    </tr>\n",
       "  </tbody>\n",
       "</table>\n",
       "</div>"
      ],
      "text/plain": [
       "   age     sex               cp  trestbps  chol          fbs  \\\n",
       "0   63    male     asymptomatic       145   233  < 120 mg/dl   \n",
       "1   37    male      non-anginal       130   250  > 120 mg/dl   \n",
       "2   41  female  atypical angina       130   204  > 120 mg/dl   \n",
       "3   56    male  atypical angina       120   236  > 120 mg/dl   \n",
       "4   57  female   typical angina       120   354  > 120 mg/dl   \n",
       "\n",
       "                 restecg  thalach exang  oldpeak        slope  ca  \\\n",
       "0                 normal      150    no      2.3    upsloping   0   \n",
       "1  ST-T wave abnormality      187    no      3.5    upsloping   0   \n",
       "2                 normal      172    no      1.4  downsloping   0   \n",
       "3  ST-T wave abnormality      178    no      0.8  downsloping   0   \n",
       "4  ST-T wave abnormality      163   yes      0.6  downsloping   0   \n",
       "\n",
       "           thal   target  \n",
       "0      normal 1  disease  \n",
       "1  fixed defect  disease  \n",
       "2  fixed defect  disease  \n",
       "3  fixed defect  disease  \n",
       "4  fixed defect  disease  "
      ]
     },
     "execution_count": 4,
     "metadata": {},
     "output_type": "execute_result"
    }
   ],
   "source": [
    "heart_disease_dataset['sex'] = heart_disease_dataset['sex'].map({0:'female', 1:'male'})\n",
    "heart_disease_dataset['cp'] = heart_disease_dataset['cp'].map({\n",
    "        0:'typical angina', 1:'atypical angina',\n",
    "        2:'non-anginal',    3:'asymptomatic'})\n",
    "heart_disease_dataset['fbs'] = heart_disease_dataset['fbs'].map({\n",
    "        0:'> 120 mg/dl', 1:'< 120 mg/dl'})\n",
    "heart_disease_dataset['restecg'] = heart_disease_dataset['restecg'].map({\n",
    "        0:'normal', 1:'ST-T wave abnormality', 2:'ventricular hypertrophy'})\n",
    "heart_disease_dataset['exang'] = heart_disease_dataset['exang'].map({\n",
    "        0:'no', 1:'yes'})\n",
    "heart_disease_dataset['slope'] = heart_disease_dataset['slope'].map({\n",
    "        0:'upsloping', 1:'flat', 2:'downsloping'})\n",
    "heart_disease_dataset['thal'] = heart_disease_dataset['thal'].map({\n",
    "        0:'normal 0',     1:'normal 1',\n",
    "        2:'fixed defect', 3:'reversable defect'})\n",
    "heart_disease_dataset['target'] = heart_disease_dataset['target'].map({0:'no disease', 1:'disease'})\n",
    "\n",
    "heart_disease_dataset.head()"
   ]
  },
  {
   "cell_type": "markdown",
   "metadata": {
    "id": "w1oPBj-l7h-E"
   },
   "source": [
    "### 4.\tTransform any one variable which is interval/ratio to categorical variable"
   ]
  },
  {
   "cell_type": "code",
   "execution_count": 5,
   "metadata": {
    "id": "aZqJn3xX7h-E",
    "outputId": "7714c649-abf8-4af8-d6f1-0f3c80c34cdf"
   },
   "outputs": [
    {
     "name": "stdout",
     "output_type": "stream",
     "text": [
      "Min Age: 29\n",
      "Max Age: 77\n"
     ]
    }
   ],
   "source": [
    "# Let's consider age variable\n",
    "print('Min Age:', heart_disease_dataset['age'].unique().min())\n",
    "print('Max Age:', heart_disease_dataset['age'].unique().max())"
   ]
  },
  {
   "cell_type": "code",
   "execution_count": 6,
   "metadata": {
    "id": "xGLIZEaD7h-E"
   },
   "outputs": [],
   "source": [
    "# Age is a continuous and ratio variable with min as 29 and 77 as max Let's convert them to categorical and add a new column 'agegroup' \n",
    "# next to age variable.\n",
    "#(77 - 29) / 2 = 24;\n",
    "# we will bin into two categories\n",
    "# [29,53] - Adult\n",
    "# [54 - 77] - Elderly"
   ]
  },
  {
   "cell_type": "code",
   "execution_count": 7,
   "metadata": {
    "id": "dCMggi6f7h-F"
   },
   "outputs": [],
   "source": [
    "category = pd.cut(heart_disease_dataset.age,bins=[29,53,77],\n",
    "       labels=['Adult','Elderly'])\n",
    "heart_disease_dataset.insert(1,'agegroup',category)"
   ]
  },
  {
   "cell_type": "code",
   "execution_count": 8,
   "metadata": {
    "id": "ch9tDB7E7h-F",
    "outputId": "1720c185-275b-4709-ed04-fc183e39648e"
   },
   "outputs": [
    {
     "data": {
      "text/html": [
       "<div>\n",
       "<style scoped>\n",
       "    .dataframe tbody tr th:only-of-type {\n",
       "        vertical-align: middle;\n",
       "    }\n",
       "\n",
       "    .dataframe tbody tr th {\n",
       "        vertical-align: top;\n",
       "    }\n",
       "\n",
       "    .dataframe thead th {\n",
       "        text-align: right;\n",
       "    }\n",
       "</style>\n",
       "<table border=\"1\" class=\"dataframe\">\n",
       "  <thead>\n",
       "    <tr style=\"text-align: right;\">\n",
       "      <th></th>\n",
       "      <th>age</th>\n",
       "      <th>agegroup</th>\n",
       "      <th>sex</th>\n",
       "      <th>cp</th>\n",
       "      <th>trestbps</th>\n",
       "      <th>chol</th>\n",
       "      <th>fbs</th>\n",
       "      <th>restecg</th>\n",
       "      <th>thalach</th>\n",
       "      <th>exang</th>\n",
       "      <th>oldpeak</th>\n",
       "      <th>slope</th>\n",
       "      <th>ca</th>\n",
       "      <th>thal</th>\n",
       "      <th>target</th>\n",
       "    </tr>\n",
       "  </thead>\n",
       "  <tbody>\n",
       "    <tr>\n",
       "      <th>6</th>\n",
       "      <td>56</td>\n",
       "      <td>Elderly</td>\n",
       "      <td>female</td>\n",
       "      <td>atypical angina</td>\n",
       "      <td>140</td>\n",
       "      <td>294</td>\n",
       "      <td>&gt; 120 mg/dl</td>\n",
       "      <td>normal</td>\n",
       "      <td>153</td>\n",
       "      <td>no</td>\n",
       "      <td>1.3</td>\n",
       "      <td>flat</td>\n",
       "      <td>0</td>\n",
       "      <td>fixed defect</td>\n",
       "      <td>disease</td>\n",
       "    </tr>\n",
       "    <tr>\n",
       "      <th>150</th>\n",
       "      <td>66</td>\n",
       "      <td>Elderly</td>\n",
       "      <td>male</td>\n",
       "      <td>typical angina</td>\n",
       "      <td>160</td>\n",
       "      <td>228</td>\n",
       "      <td>&gt; 120 mg/dl</td>\n",
       "      <td>normal</td>\n",
       "      <td>138</td>\n",
       "      <td>no</td>\n",
       "      <td>2.3</td>\n",
       "      <td>downsloping</td>\n",
       "      <td>0</td>\n",
       "      <td>normal 1</td>\n",
       "      <td>disease</td>\n",
       "    </tr>\n",
       "    <tr>\n",
       "      <th>91</th>\n",
       "      <td>57</td>\n",
       "      <td>Elderly</td>\n",
       "      <td>male</td>\n",
       "      <td>typical angina</td>\n",
       "      <td>132</td>\n",
       "      <td>207</td>\n",
       "      <td>&gt; 120 mg/dl</td>\n",
       "      <td>ST-T wave abnormality</td>\n",
       "      <td>168</td>\n",
       "      <td>yes</td>\n",
       "      <td>0.0</td>\n",
       "      <td>downsloping</td>\n",
       "      <td>0</td>\n",
       "      <td>reversable defect</td>\n",
       "      <td>disease</td>\n",
       "    </tr>\n",
       "    <tr>\n",
       "      <th>182</th>\n",
       "      <td>61</td>\n",
       "      <td>Elderly</td>\n",
       "      <td>female</td>\n",
       "      <td>typical angina</td>\n",
       "      <td>130</td>\n",
       "      <td>330</td>\n",
       "      <td>&gt; 120 mg/dl</td>\n",
       "      <td>normal</td>\n",
       "      <td>169</td>\n",
       "      <td>no</td>\n",
       "      <td>0.0</td>\n",
       "      <td>downsloping</td>\n",
       "      <td>0</td>\n",
       "      <td>fixed defect</td>\n",
       "      <td>no disease</td>\n",
       "    </tr>\n",
       "    <tr>\n",
       "      <th>253</th>\n",
       "      <td>67</td>\n",
       "      <td>Elderly</td>\n",
       "      <td>male</td>\n",
       "      <td>typical angina</td>\n",
       "      <td>100</td>\n",
       "      <td>299</td>\n",
       "      <td>&gt; 120 mg/dl</td>\n",
       "      <td>normal</td>\n",
       "      <td>125</td>\n",
       "      <td>yes</td>\n",
       "      <td>0.9</td>\n",
       "      <td>flat</td>\n",
       "      <td>2</td>\n",
       "      <td>fixed defect</td>\n",
       "      <td>no disease</td>\n",
       "    </tr>\n",
       "    <tr>\n",
       "      <th>62</th>\n",
       "      <td>52</td>\n",
       "      <td>Adult</td>\n",
       "      <td>male</td>\n",
       "      <td>asymptomatic</td>\n",
       "      <td>118</td>\n",
       "      <td>186</td>\n",
       "      <td>&gt; 120 mg/dl</td>\n",
       "      <td>normal</td>\n",
       "      <td>190</td>\n",
       "      <td>no</td>\n",
       "      <td>0.0</td>\n",
       "      <td>flat</td>\n",
       "      <td>0</td>\n",
       "      <td>normal 1</td>\n",
       "      <td>disease</td>\n",
       "    </tr>\n",
       "    <tr>\n",
       "      <th>189</th>\n",
       "      <td>41</td>\n",
       "      <td>Adult</td>\n",
       "      <td>male</td>\n",
       "      <td>typical angina</td>\n",
       "      <td>110</td>\n",
       "      <td>172</td>\n",
       "      <td>&gt; 120 mg/dl</td>\n",
       "      <td>normal</td>\n",
       "      <td>158</td>\n",
       "      <td>no</td>\n",
       "      <td>0.0</td>\n",
       "      <td>downsloping</td>\n",
       "      <td>0</td>\n",
       "      <td>reversable defect</td>\n",
       "      <td>no disease</td>\n",
       "    </tr>\n",
       "    <tr>\n",
       "      <th>209</th>\n",
       "      <td>59</td>\n",
       "      <td>Elderly</td>\n",
       "      <td>male</td>\n",
       "      <td>typical angina</td>\n",
       "      <td>140</td>\n",
       "      <td>177</td>\n",
       "      <td>&gt; 120 mg/dl</td>\n",
       "      <td>ST-T wave abnormality</td>\n",
       "      <td>162</td>\n",
       "      <td>yes</td>\n",
       "      <td>0.0</td>\n",
       "      <td>downsloping</td>\n",
       "      <td>1</td>\n",
       "      <td>reversable defect</td>\n",
       "      <td>no disease</td>\n",
       "    </tr>\n",
       "    <tr>\n",
       "      <th>267</th>\n",
       "      <td>49</td>\n",
       "      <td>Adult</td>\n",
       "      <td>male</td>\n",
       "      <td>non-anginal</td>\n",
       "      <td>118</td>\n",
       "      <td>149</td>\n",
       "      <td>&gt; 120 mg/dl</td>\n",
       "      <td>normal</td>\n",
       "      <td>126</td>\n",
       "      <td>no</td>\n",
       "      <td>0.8</td>\n",
       "      <td>downsloping</td>\n",
       "      <td>3</td>\n",
       "      <td>fixed defect</td>\n",
       "      <td>no disease</td>\n",
       "    </tr>\n",
       "    <tr>\n",
       "      <th>237</th>\n",
       "      <td>60</td>\n",
       "      <td>Elderly</td>\n",
       "      <td>male</td>\n",
       "      <td>typical angina</td>\n",
       "      <td>140</td>\n",
       "      <td>293</td>\n",
       "      <td>&gt; 120 mg/dl</td>\n",
       "      <td>normal</td>\n",
       "      <td>170</td>\n",
       "      <td>no</td>\n",
       "      <td>1.2</td>\n",
       "      <td>flat</td>\n",
       "      <td>2</td>\n",
       "      <td>reversable defect</td>\n",
       "      <td>no disease</td>\n",
       "    </tr>\n",
       "  </tbody>\n",
       "</table>\n",
       "</div>"
      ],
      "text/plain": [
       "     age agegroup     sex               cp  trestbps  chol          fbs  \\\n",
       "6     56  Elderly  female  atypical angina       140   294  > 120 mg/dl   \n",
       "150   66  Elderly    male   typical angina       160   228  > 120 mg/dl   \n",
       "91    57  Elderly    male   typical angina       132   207  > 120 mg/dl   \n",
       "182   61  Elderly  female   typical angina       130   330  > 120 mg/dl   \n",
       "253   67  Elderly    male   typical angina       100   299  > 120 mg/dl   \n",
       "62    52    Adult    male     asymptomatic       118   186  > 120 mg/dl   \n",
       "189   41    Adult    male   typical angina       110   172  > 120 mg/dl   \n",
       "209   59  Elderly    male   typical angina       140   177  > 120 mg/dl   \n",
       "267   49    Adult    male      non-anginal       118   149  > 120 mg/dl   \n",
       "237   60  Elderly    male   typical angina       140   293  > 120 mg/dl   \n",
       "\n",
       "                   restecg  thalach exang  oldpeak        slope  ca  \\\n",
       "6                   normal      153    no      1.3         flat   0   \n",
       "150                 normal      138    no      2.3  downsloping   0   \n",
       "91   ST-T wave abnormality      168   yes      0.0  downsloping   0   \n",
       "182                 normal      169    no      0.0  downsloping   0   \n",
       "253                 normal      125   yes      0.9         flat   2   \n",
       "62                  normal      190    no      0.0         flat   0   \n",
       "189                 normal      158    no      0.0  downsloping   0   \n",
       "209  ST-T wave abnormality      162   yes      0.0  downsloping   1   \n",
       "267                 normal      126    no      0.8  downsloping   3   \n",
       "237                 normal      170    no      1.2         flat   2   \n",
       "\n",
       "                  thal      target  \n",
       "6         fixed defect     disease  \n",
       "150           normal 1     disease  \n",
       "91   reversable defect     disease  \n",
       "182       fixed defect  no disease  \n",
       "253       fixed defect  no disease  \n",
       "62            normal 1     disease  \n",
       "189  reversable defect  no disease  \n",
       "209  reversable defect  no disease  \n",
       "267       fixed defect  no disease  \n",
       "237  reversable defect  no disease  "
      ]
     },
     "execution_count": 8,
     "metadata": {},
     "output_type": "execute_result"
    }
   ],
   "source": [
    "heart_disease_dataset.sample(10)"
   ]
  },
  {
   "cell_type": "markdown",
   "metadata": {
    "id": "t5kmKssC7h-F"
   },
   "source": [
    "### 5.\tTransform any one variable which is interval/ratio to ordinal variable"
   ]
  },
  {
   "cell_type": "code",
   "execution_count": 9,
   "metadata": {
    "id": "puJWc7177h-F",
    "outputId": "453a9008-0164-4646-9ce6-d44bda491c8b"
   },
   "outputs": [
    {
     "name": "stdout",
     "output_type": "stream",
     "text": [
      "Min 0.0\n",
      "Max:  6.2\n"
     ]
    }
   ],
   "source": [
    "# Lets consider 'oldpeak' as interval variable\n",
    "print('Min', heart_disease_dataset['oldpeak'].unique().min())\n",
    "print('Max: ', heart_disease_dataset['oldpeak'].unique().max())"
   ]
  },
  {
   "cell_type": "markdown",
   "metadata": {
    "id": "1vKVHCzL7h-G"
   },
   "source": [
    "#### Here minimum value is 0 and max value is 6.2; Lets divide them in to 7 ordinal variables as below;\n",
    "\n",
    "[0,1) : 0\n",
    "\n",
    "[1,2) : 1\n",
    "\n",
    "[2,3) : 2\n",
    "\n",
    "[3,4) : 3\n",
    "\n",
    "[4,5) : 4\n",
    "\n",
    "[5,6) : 5\n",
    "\n",
    "[6,7) : 6"
   ]
  },
  {
   "cell_type": "code",
   "execution_count": 10,
   "metadata": {
    "id": "8xKpFDOo7h-G"
   },
   "outputs": [],
   "source": [
    "ordinal = pd.cut(heart_disease_dataset.oldpeak, bins=7, labels=np.arange(7), right=False)"
   ]
  },
  {
   "cell_type": "code",
   "execution_count": 11,
   "metadata": {
    "id": "v8v7UVY07h-G",
    "outputId": "d31d09dd-1ec1-4691-b35a-240c135ab8b4"
   },
   "outputs": [
    {
     "data": {
      "text/html": [
       "<div>\n",
       "<style scoped>\n",
       "    .dataframe tbody tr th:only-of-type {\n",
       "        vertical-align: middle;\n",
       "    }\n",
       "\n",
       "    .dataframe tbody tr th {\n",
       "        vertical-align: top;\n",
       "    }\n",
       "\n",
       "    .dataframe thead th {\n",
       "        text-align: right;\n",
       "    }\n",
       "</style>\n",
       "<table border=\"1\" class=\"dataframe\">\n",
       "  <thead>\n",
       "    <tr style=\"text-align: right;\">\n",
       "      <th></th>\n",
       "      <th>age</th>\n",
       "      <th>agegroup</th>\n",
       "      <th>sex</th>\n",
       "      <th>cp</th>\n",
       "      <th>trestbps</th>\n",
       "      <th>chol</th>\n",
       "      <th>fbs</th>\n",
       "      <th>restecg</th>\n",
       "      <th>thalach</th>\n",
       "      <th>exang</th>\n",
       "      <th>oldpeak</th>\n",
       "      <th>oldpeakordinal</th>\n",
       "      <th>slope</th>\n",
       "      <th>ca</th>\n",
       "      <th>thal</th>\n",
       "      <th>target</th>\n",
       "    </tr>\n",
       "  </thead>\n",
       "  <tbody>\n",
       "    <tr>\n",
       "      <th>27</th>\n",
       "      <td>51</td>\n",
       "      <td>Adult</td>\n",
       "      <td>male</td>\n",
       "      <td>non-anginal</td>\n",
       "      <td>110</td>\n",
       "      <td>175</td>\n",
       "      <td>&gt; 120 mg/dl</td>\n",
       "      <td>ST-T wave abnormality</td>\n",
       "      <td>123</td>\n",
       "      <td>no</td>\n",
       "      <td>0.6</td>\n",
       "      <td>0</td>\n",
       "      <td>downsloping</td>\n",
       "      <td>0</td>\n",
       "      <td>fixed defect</td>\n",
       "      <td>disease</td>\n",
       "    </tr>\n",
       "    <tr>\n",
       "      <th>29</th>\n",
       "      <td>53</td>\n",
       "      <td>Adult</td>\n",
       "      <td>male</td>\n",
       "      <td>non-anginal</td>\n",
       "      <td>130</td>\n",
       "      <td>197</td>\n",
       "      <td>&lt; 120 mg/dl</td>\n",
       "      <td>normal</td>\n",
       "      <td>152</td>\n",
       "      <td>no</td>\n",
       "      <td>1.2</td>\n",
       "      <td>1</td>\n",
       "      <td>upsloping</td>\n",
       "      <td>0</td>\n",
       "      <td>fixed defect</td>\n",
       "      <td>disease</td>\n",
       "    </tr>\n",
       "    <tr>\n",
       "      <th>231</th>\n",
       "      <td>57</td>\n",
       "      <td>Elderly</td>\n",
       "      <td>male</td>\n",
       "      <td>typical angina</td>\n",
       "      <td>165</td>\n",
       "      <td>289</td>\n",
       "      <td>&lt; 120 mg/dl</td>\n",
       "      <td>normal</td>\n",
       "      <td>124</td>\n",
       "      <td>no</td>\n",
       "      <td>1.0</td>\n",
       "      <td>1</td>\n",
       "      <td>flat</td>\n",
       "      <td>3</td>\n",
       "      <td>reversable defect</td>\n",
       "      <td>no disease</td>\n",
       "    </tr>\n",
       "    <tr>\n",
       "      <th>133</th>\n",
       "      <td>41</td>\n",
       "      <td>Adult</td>\n",
       "      <td>male</td>\n",
       "      <td>atypical angina</td>\n",
       "      <td>110</td>\n",
       "      <td>235</td>\n",
       "      <td>&gt; 120 mg/dl</td>\n",
       "      <td>ST-T wave abnormality</td>\n",
       "      <td>153</td>\n",
       "      <td>no</td>\n",
       "      <td>0.0</td>\n",
       "      <td>0</td>\n",
       "      <td>downsloping</td>\n",
       "      <td>0</td>\n",
       "      <td>fixed defect</td>\n",
       "      <td>disease</td>\n",
       "    </tr>\n",
       "    <tr>\n",
       "      <th>4</th>\n",
       "      <td>57</td>\n",
       "      <td>Elderly</td>\n",
       "      <td>female</td>\n",
       "      <td>typical angina</td>\n",
       "      <td>120</td>\n",
       "      <td>354</td>\n",
       "      <td>&gt; 120 mg/dl</td>\n",
       "      <td>ST-T wave abnormality</td>\n",
       "      <td>163</td>\n",
       "      <td>yes</td>\n",
       "      <td>0.6</td>\n",
       "      <td>0</td>\n",
       "      <td>downsloping</td>\n",
       "      <td>0</td>\n",
       "      <td>fixed defect</td>\n",
       "      <td>disease</td>\n",
       "    </tr>\n",
       "    <tr>\n",
       "      <th>...</th>\n",
       "      <td>...</td>\n",
       "      <td>...</td>\n",
       "      <td>...</td>\n",
       "      <td>...</td>\n",
       "      <td>...</td>\n",
       "      <td>...</td>\n",
       "      <td>...</td>\n",
       "      <td>...</td>\n",
       "      <td>...</td>\n",
       "      <td>...</td>\n",
       "      <td>...</td>\n",
       "      <td>...</td>\n",
       "      <td>...</td>\n",
       "      <td>...</td>\n",
       "      <td>...</td>\n",
       "      <td>...</td>\n",
       "    </tr>\n",
       "    <tr>\n",
       "      <th>55</th>\n",
       "      <td>52</td>\n",
       "      <td>Adult</td>\n",
       "      <td>male</td>\n",
       "      <td>atypical angina</td>\n",
       "      <td>134</td>\n",
       "      <td>201</td>\n",
       "      <td>&gt; 120 mg/dl</td>\n",
       "      <td>ST-T wave abnormality</td>\n",
       "      <td>158</td>\n",
       "      <td>no</td>\n",
       "      <td>0.8</td>\n",
       "      <td>0</td>\n",
       "      <td>downsloping</td>\n",
       "      <td>1</td>\n",
       "      <td>fixed defect</td>\n",
       "      <td>disease</td>\n",
       "    </tr>\n",
       "    <tr>\n",
       "      <th>265</th>\n",
       "      <td>66</td>\n",
       "      <td>Elderly</td>\n",
       "      <td>male</td>\n",
       "      <td>typical angina</td>\n",
       "      <td>112</td>\n",
       "      <td>212</td>\n",
       "      <td>&gt; 120 mg/dl</td>\n",
       "      <td>normal</td>\n",
       "      <td>132</td>\n",
       "      <td>yes</td>\n",
       "      <td>0.1</td>\n",
       "      <td>0</td>\n",
       "      <td>downsloping</td>\n",
       "      <td>1</td>\n",
       "      <td>fixed defect</td>\n",
       "      <td>no disease</td>\n",
       "    </tr>\n",
       "    <tr>\n",
       "      <th>165</th>\n",
       "      <td>67</td>\n",
       "      <td>Elderly</td>\n",
       "      <td>male</td>\n",
       "      <td>typical angina</td>\n",
       "      <td>160</td>\n",
       "      <td>286</td>\n",
       "      <td>&gt; 120 mg/dl</td>\n",
       "      <td>normal</td>\n",
       "      <td>108</td>\n",
       "      <td>yes</td>\n",
       "      <td>1.5</td>\n",
       "      <td>1</td>\n",
       "      <td>flat</td>\n",
       "      <td>3</td>\n",
       "      <td>fixed defect</td>\n",
       "      <td>no disease</td>\n",
       "    </tr>\n",
       "    <tr>\n",
       "      <th>14</th>\n",
       "      <td>58</td>\n",
       "      <td>Elderly</td>\n",
       "      <td>female</td>\n",
       "      <td>asymptomatic</td>\n",
       "      <td>150</td>\n",
       "      <td>283</td>\n",
       "      <td>&lt; 120 mg/dl</td>\n",
       "      <td>normal</td>\n",
       "      <td>162</td>\n",
       "      <td>no</td>\n",
       "      <td>1.0</td>\n",
       "      <td>1</td>\n",
       "      <td>downsloping</td>\n",
       "      <td>0</td>\n",
       "      <td>fixed defect</td>\n",
       "      <td>disease</td>\n",
       "    </tr>\n",
       "    <tr>\n",
       "      <th>99</th>\n",
       "      <td>53</td>\n",
       "      <td>Adult</td>\n",
       "      <td>male</td>\n",
       "      <td>non-anginal</td>\n",
       "      <td>130</td>\n",
       "      <td>246</td>\n",
       "      <td>&lt; 120 mg/dl</td>\n",
       "      <td>normal</td>\n",
       "      <td>173</td>\n",
       "      <td>no</td>\n",
       "      <td>0.0</td>\n",
       "      <td>0</td>\n",
       "      <td>downsloping</td>\n",
       "      <td>3</td>\n",
       "      <td>fixed defect</td>\n",
       "      <td>disease</td>\n",
       "    </tr>\n",
       "  </tbody>\n",
       "</table>\n",
       "<p>100 rows × 16 columns</p>\n",
       "</div>"
      ],
      "text/plain": [
       "     age agegroup     sex               cp  trestbps  chol          fbs  \\\n",
       "27    51    Adult    male      non-anginal       110   175  > 120 mg/dl   \n",
       "29    53    Adult    male      non-anginal       130   197  < 120 mg/dl   \n",
       "231   57  Elderly    male   typical angina       165   289  < 120 mg/dl   \n",
       "133   41    Adult    male  atypical angina       110   235  > 120 mg/dl   \n",
       "4     57  Elderly  female   typical angina       120   354  > 120 mg/dl   \n",
       "..   ...      ...     ...              ...       ...   ...          ...   \n",
       "55    52    Adult    male  atypical angina       134   201  > 120 mg/dl   \n",
       "265   66  Elderly    male   typical angina       112   212  > 120 mg/dl   \n",
       "165   67  Elderly    male   typical angina       160   286  > 120 mg/dl   \n",
       "14    58  Elderly  female     asymptomatic       150   283  < 120 mg/dl   \n",
       "99    53    Adult    male      non-anginal       130   246  < 120 mg/dl   \n",
       "\n",
       "                   restecg  thalach exang  oldpeak oldpeakordinal  \\\n",
       "27   ST-T wave abnormality      123    no      0.6              0   \n",
       "29                  normal      152    no      1.2              1   \n",
       "231                 normal      124    no      1.0              1   \n",
       "133  ST-T wave abnormality      153    no      0.0              0   \n",
       "4    ST-T wave abnormality      163   yes      0.6              0   \n",
       "..                     ...      ...   ...      ...            ...   \n",
       "55   ST-T wave abnormality      158    no      0.8              0   \n",
       "265                 normal      132   yes      0.1              0   \n",
       "165                 normal      108   yes      1.5              1   \n",
       "14                  normal      162    no      1.0              1   \n",
       "99                  normal      173    no      0.0              0   \n",
       "\n",
       "           slope  ca               thal      target  \n",
       "27   downsloping   0       fixed defect     disease  \n",
       "29     upsloping   0       fixed defect     disease  \n",
       "231         flat   3  reversable defect  no disease  \n",
       "133  downsloping   0       fixed defect     disease  \n",
       "4    downsloping   0       fixed defect     disease  \n",
       "..           ...  ..                ...         ...  \n",
       "55   downsloping   1       fixed defect     disease  \n",
       "265  downsloping   1       fixed defect  no disease  \n",
       "165         flat   3       fixed defect  no disease  \n",
       "14   downsloping   0       fixed defect     disease  \n",
       "99   downsloping   3       fixed defect     disease  \n",
       "\n",
       "[100 rows x 16 columns]"
      ]
     },
     "execution_count": 11,
     "metadata": {},
     "output_type": "execute_result"
    }
   ],
   "source": [
    "#Add a new column as ordinal\n",
    "heart_disease_dataset.insert(11,'oldpeakordinal',ordinal)\n",
    "heart_disease_dataset.sample(100)"
   ]
  },
  {
   "cell_type": "markdown",
   "metadata": {
    "id": "kdq-2VDw7h-G"
   },
   "source": [
    "### 6.\tIs there any association between any two interval/ratio variable. How will you go about it?"
   ]
  },
  {
   "cell_type": "code",
   "execution_count": 12,
   "metadata": {
    "id": "3NjNQF9B7h-G"
   },
   "outputs": [],
   "source": [
    "import matplotlib.pyplot as plt\n",
    "import seaborn as sns\n",
    "import warnings\n",
    "warnings.filterwarnings('ignore')"
   ]
  },
  {
   "cell_type": "code",
   "execution_count": 13,
   "metadata": {
    "id": "0PZeTOA97h-G"
   },
   "outputs": [],
   "source": [
    "#TBD"
   ]
  },
  {
   "cell_type": "markdown",
   "metadata": {
    "id": "c80F3l-A7h-H"
   },
   "source": [
    "### 7.\tWhich graph type would you prefer to use for visualizing each variable"
   ]
  },
  {
   "cell_type": "markdown",
   "metadata": {
    "id": "YoSE_bWQ7h-H"
   },
   "source": [
    "#### Discrete variables can be plotted using Seaborn's swarmplot.\n",
    "\n",
    "#### Continuous variables can be plotted using Seaborn's distplot."
   ]
  },
  {
   "cell_type": "code",
   "execution_count": 14,
   "metadata": {
    "id": "OOwt21nk7h-I"
   },
   "outputs": [],
   "source": [
    "#  Separate out Discrete and Continuous data\n",
    "colDiscrete = []\n",
    "colContinuous = []\n",
    "for i in heart_disease_dataset.columns:\n",
    "    if (len(heart_disease_dataset[i].unique())) > 5:\n",
    "        colContinuous.append(i)\n",
    "    else:\n",
    "        colDiscrete.append(i)\n",
    "    \n",
    "\n",
    "colDiscrete = heart_disease_dataset[colDiscrete]     #  Discrete columns\n",
    "colContinuous.append('target')  #  add target column to Continuous\n",
    "dataNUM = heart_disease_dataset[colContinuous]     #  Continuous columns"
   ]
  },
  {
   "cell_type": "code",
   "execution_count": 46,
   "metadata": {
    "id": "_UC4ZhiY7h-I",
    "outputId": "e7d0d8f6-4b1e-480f-9032-c7faaca20da2"
   },
   "outputs": [
    {
     "ename": "NameError",
     "evalue": "name 'colCAT' is not defined",
     "output_type": "error",
     "traceback": [
      "\u001b[1;31m---------------------------------------------------------------------------\u001b[0m",
      "\u001b[1;31mNameError\u001b[0m                                 Traceback (most recent call last)",
      "\u001b[1;32m<ipython-input-46-79a95c780931>\u001b[0m in \u001b[0;36m<module>\u001b[1;34m\u001b[0m\n\u001b[0;32m      9\u001b[0m \u001b[0mfig\u001b[0m \u001b[1;33m=\u001b[0m \u001b[0mplt\u001b[0m\u001b[1;33m.\u001b[0m\u001b[0mfigure\u001b[0m\u001b[1;33m(\u001b[0m\u001b[0mfigsize\u001b[0m\u001b[1;33m=\u001b[0m\u001b[1;33m(\u001b[0m\u001b[1;36m16\u001b[0m\u001b[1;33m,\u001b[0m\u001b[1;36m60\u001b[0m\u001b[1;33m)\u001b[0m\u001b[1;33m)\u001b[0m\u001b[1;33m\u001b[0m\u001b[1;33m\u001b[0m\u001b[0m\n\u001b[0;32m     10\u001b[0m \u001b[1;33m\u001b[0m\u001b[0m\n\u001b[1;32m---> 11\u001b[1;33m \u001b[1;32mfor\u001b[0m \u001b[0mi\u001b[0m \u001b[1;32min\u001b[0m \u001b[0mcolCAT\u001b[0m\u001b[1;33m:\u001b[0m\u001b[1;33m\u001b[0m\u001b[1;33m\u001b[0m\u001b[0m\n\u001b[0m\u001b[0;32m     12\u001b[0m     \u001b[1;31m# overall\u001b[0m\u001b[1;33m\u001b[0m\u001b[1;33m\u001b[0m\u001b[1;33m\u001b[0m\u001b[0m\n\u001b[0;32m     13\u001b[0m     \u001b[0mfig\u001b[0m\u001b[1;33m.\u001b[0m\u001b[0madd_subplot\u001b[0m\u001b[1;33m(\u001b[0m\u001b[0msubNumOfRow\u001b[0m\u001b[1;33m,\u001b[0m \u001b[0msubNumOfCol\u001b[0m\u001b[1;33m,\u001b[0m \u001b[0msubPlotNum\u001b[0m\u001b[1;33m)\u001b[0m\u001b[1;33m\u001b[0m\u001b[1;33m\u001b[0m\u001b[0m\n",
      "\u001b[1;31mNameError\u001b[0m: name 'colCAT' is not defined"
     ]
    },
    {
     "data": {
      "text/plain": [
       "<Figure size 1152x4320 with 0 Axes>"
      ]
     },
     "metadata": {},
     "output_type": "display_data"
    }
   ],
   "source": [
    "diseaseCAT    = heart_disease_dataset[(heart_disease_dataset['target'] == 'disease')]\n",
    "no_diseaseCAT = heart_disease_dataset[(heart_disease_dataset['target'] == 'no disease')]\n",
    "\n",
    "#  fig.add_subplot([# of rows] by [# of columns] by [plot#])\n",
    "subNumOfRow = len(diseaseCAT.columns)\n",
    "subNumOfCol = 3     # three columns: overall, no disease, disease\n",
    "subPlotNum  = 1     # initialize plot number\n",
    "\n",
    "fig = plt.figure(figsize=(16,60))\n",
    "\n",
    "for i in colCAT:\n",
    "    # overall\n",
    "    fig.add_subplot(subNumOfRow, subNumOfCol, subPlotNum)\n",
    "    plt.title('OVERALL - {}'.format(i), fontsize=14)\n",
    "    plt.xlabel(i, fontsize=12)\n",
    "    sns.swarmplot(data=heart_disease_dataset, x=heart_disease_dataset[i],y=heart_disease_dataset.age,hue=heart_disease_dataset.target)\n",
    "    subPlotNum = subPlotNum + 1\n",
    "    # no_diseaseCAT\n",
    "    fig.add_subplot(subNumOfRow, subNumOfCol, subPlotNum)\n",
    "    plt.title('NO DISEASE, target = 0', fontsize=14)\n",
    "    plt.xlabel(i, fontsize=12)\n",
    "    sns.swarmplot(data=no_diseaseCAT, x=no_diseaseCAT[i],y=no_diseaseCAT.age,color='darkorange')\n",
    "    subPlotNum = subPlotNum + 1\n",
    "    # diseaseCAT\n",
    "    fig.add_subplot(subNumOfRow, subNumOfCol, subPlotNum)\n",
    "    plt.title('DISEASE, target = 1', fontsize=14)\n",
    "    plt.xlabel(i, fontsize=12)\n",
    "    #sns.countplot(diseaseCAT[i], hue=df.sex)#,color='darkred')\n",
    "    sns.swarmplot(data=diseaseCAT, x=diseaseCAT[i],y=diseaseCAT.age,color='blue')\n",
    "    subPlotNum = subPlotNum + 1\n",
    "plt.show()\n"
   ]
  },
  {
   "cell_type": "code",
   "execution_count": 16,
   "metadata": {
    "id": "Fp38F1RU7h-I",
    "outputId": "5357692c-8c2c-415c-a185-fb3d359fe8df"
   },
   "outputs": [
    {
     "data": {
      "image/png": "[encoded data removed]",
      "text/plain": [
       "<Figure size 1152x2160 with 15 Axes>"
      ]
     },
     "metadata": {
      "needs_background": "light"
     },
     "output_type": "display_data"
    }
   ],
   "source": [
    "#  assign NUM dataframe for \"no disease\" and \"disease\"\n",
    "no_diseaseNUM = dataNUM[(heart_disease_dataset['target'] == 'no disease')]\n",
    "diseaseNUM    = dataNUM[(heart_disease_dataset['target'] == 'disease')]\n",
    "\n",
    "#  fig.add_subplot([# of rows] by [# of columns] by [plot#])\n",
    "subNumOfRow = len(dataNUM.columns)-1   #  x='age' in plots, drop column\n",
    "subNumOfCol = 3     # three columns: overall, no disease, disease\n",
    "subPlotNum  = 1     # initialize plot number\n",
    "\n",
    "fig = plt.figure(figsize=(16,30))\n",
    "\n",
    "for i in dataNUM.columns.drop([\"age\",\"target\"]):\n",
    "    # overall\n",
    "    fig.add_subplot(subNumOfRow, subNumOfCol, subPlotNum)\n",
    "    plt.title('OVERALL', fontsize=14)\n",
    "    plt.xlabel(i, fontsize=12)\n",
    "    sns.distplot(heart_disease_dataset[i],color='black')\n",
    "    subPlotNum = subPlotNum + 1\n",
    "    # no_diseaseNUM\n",
    "    fig.add_subplot(subNumOfRow, subNumOfCol, subPlotNum)\n",
    "    plt.title('NO DISEASE, target = 0', fontsize=14)\n",
    "    plt.xlabel(i, fontsize=12)\n",
    "    sns.distplot(no_diseaseNUM[i],color='darkorange')\n",
    "    subPlotNum = subPlotNum + 1\n",
    "    # diseaseNUM\n",
    "    fig.add_subplot(subNumOfRow, subNumOfCol, subPlotNum)\n",
    "    plt.title('DISEASE, target = 1', fontsize=14)\n",
    "    plt.xlabel(i, fontsize=12)\n",
    "    sns.distplot(diseaseNUM[i],color='darkblue')\n",
    "    subPlotNum = subPlotNum + 1\n",
    "\n",
    "plt.show()"
   ]
  },
  {
   "cell_type": "markdown",
   "metadata": {
    "id": "O8zmIqw-7h-J"
   },
   "source": [
    "8.\tWhat will be your criteria to select the classification algorithm?\n",
    "9.\tHow will you evaluate the performance of two classifier that you investigated and state which is better\n",
    "10. Can you deploy your model in real time? What are the challenges?\n"
   ]
  },
  {
   "cell_type": "markdown",
   "metadata": {
    "id": "31y2ESn77h-J"
   },
   "source": [
    "### 8. What will be your criteria to select the classification algorithm?\n",
    "\n",
    "#### There are various factors that we have to consider when we have to choose a classification factor. Like we have to know what type of data we have. lets say we have data that is labelled. in tis case we could straight way use the supervised allgorithms.\n",
    "\n",
    "#### Size of data also is a factor. Most algorithms works better with large dataset. for example on large dataset works well for K Nearest Neibour works well with large dataset, where as Naive Bayes works well with small data set.\n",
    "\n",
    "#### SVM works well with dataset that has large number of feature set. other algorithms will take a longer time to train the model."
   ]
  },
  {
   "cell_type": "markdown",
   "metadata": {
    "id": "MKwRGeYc9zrR"
   },
   "source": [
    "### 9. How will you evaluate the performance of two classifier that you investigated and state which is better\n",
    "\n",
    "We have implemented Logistic regression and Decision Tree algorithm."
   ]
  },
  {
   "cell_type": "code",
   "execution_count": 38,
   "metadata": {
    "colab": {
     "base_uri": "https://localhost:8080/",
     "height": 229
    },
    "id": "9ufrxrF_7h-J",
    "outputId": "092e2f68-a827-4277-dae9-f4bd84dbefae"
   },
   "outputs": [
    {
     "name": "stdout",
     "output_type": "stream",
     "text": [
      "(242, 12)\n",
      "(61, 12)\n",
      "(242,)\n",
      "(61,)\n"
     ]
    }
   ],
   "source": [
    "from sklearn.model_selection import train_test_split\n",
    "from sklearn.linear_model import LogisticRegression\n",
    "from sklearn import metrics\n",
    "\n",
    "heart_disease_dataset_raw = pd.read_csv(\"./heart.csv\")\n",
    "\n",
    "category = pd.cut(heart_disease_dataset_raw.age,bins=[29,53,77],\n",
    "       labels=['0','1'])\n",
    "heart_disease_dataset_raw.insert(1,'agegroup',category)\n",
    "\n",
    "feature_cols = ['age','sex','cp','trestbps','chol','fbs','restecg','thalach','exang','oldpeak','slope','ca']\n",
    "X = heart_disease_dataset_raw[feature_cols] # Features\n",
    "y = heart_disease_dataset_raw.target # Target variable\n",
    "\n",
    "X_train, X_test, y_train, y_test = train_test_split(X, y, test_size = 0.2, random_state=5)\n",
    "\n",
    "print(X_train.shape)\n",
    "print(X_test.shape)\n",
    "print(y_train.shape)\n",
    "print(y_test.shape)\n"
   ]
  },
  {
   "cell_type": "markdown",
   "metadata": {
    "id": "bHjm2OJQ-MkX"
   },
   "source": [
    "### 9.1 Logistics regression\n"
   ]
  },
  {
   "cell_type": "code",
   "execution_count": 39,
   "metadata": {},
   "outputs": [],
   "source": [
    "# instantiate the model (using the default parameters)\n",
    "logregmodel = LogisticRegression(max_iter=1000)\n",
    "\n",
    "# fit the model with data\n",
    "logregmodel.fit(X_train,y_train)\n",
    "\n",
    "#\n",
    "y_pred=logregmodel.predict(X_test)"
   ]
  },
  {
   "cell_type": "code",
   "execution_count": 40,
   "metadata": {},
   "outputs": [
    {
     "data": {
      "text/plain": [
       "array([[27,  3],\n",
       "       [ 4, 27]], dtype=int64)"
      ]
     },
     "execution_count": 40,
     "metadata": {},
     "output_type": "execute_result"
    }
   ],
   "source": [
    "# import the metrics class\n",
    "from sklearn import metrics\n",
    "cnf_matrix = metrics.confusion_matrix(y_test, y_pred)\n",
    "cnf_matrix"
   ]
  },
  {
   "cell_type": "code",
   "execution_count": 41,
   "metadata": {},
   "outputs": [
    {
     "data": {
      "text/plain": [
       "Text(0.5, 257.44, 'Predicted label')"
      ]
     },
     "execution_count": 41,
     "metadata": {},
     "output_type": "execute_result"
    },
    {
     "data": {
      "image/png": "[encoded data removed]",
      "text/plain": [
       "<Figure size 432x288 with 2 Axes>"
      ]
     },
     "metadata": {
      "needs_background": "light"
     },
     "output_type": "display_data"
    }
   ],
   "source": [
    "class_names=[0,1] # name  of classes\n",
    "fig, ax = plt.subplots()\n",
    "tick_marks = np.arange(len(class_names))\n",
    "plt.xticks(tick_marks, class_names)\n",
    "plt.yticks(tick_marks, class_names)\n",
    "# create heatmap\n",
    "sns.heatmap(pd.DataFrame(cnf_matrix), annot=True, cmap=\"YlGnBu\" ,fmt='g')\n",
    "ax.xaxis.set_label_position(\"top\")\n",
    "plt.tight_layout()\n",
    "plt.title('Confusion matrix', y=1.1)\n",
    "plt.ylabel('Actual label')\n",
    "plt.xlabel('Predicted label')"
   ]
  },
  {
   "cell_type": "code",
   "execution_count": 42,
   "metadata": {},
   "outputs": [
    {
     "name": "stdout",
     "output_type": "stream",
     "text": [
      "Accuracy: 0.8852459016393442\n",
      "Precision: 0.9\n",
      "Recall: 0.8709677419354839\n"
     ]
    }
   ],
   "source": [
    "print(\"Accuracy:\",metrics.accuracy_score(y_test, y_pred))\n",
    "print(\"Precision:\",metrics.precision_score(y_test, y_pred))\n",
    "print(\"Recall:\",metrics.recall_score(y_test, y_pred))"
   ]
  },
  {
   "cell_type": "code",
   "execution_count": 43,
   "metadata": {},
   "outputs": [
    {
     "data": {
      "image/png": "[encoded data removed]",
      "text/plain": [
       "<Figure size 432x288 with 1 Axes>"
      ]
     },
     "metadata": {
      "needs_background": "light"
     },
     "output_type": "display_data"
    }
   ],
   "source": [
    "y_pred_proba = logregmodel.predict_proba(X_test)[::,1]\n",
    "fpr, tpr, _ = metrics.roc_curve(y_test,  y_pred_proba)\n",
    "auc = metrics.roc_auc_score(y_test, y_pred_proba)\n",
    "plt.plot(fpr,tpr,label=\"data 1, auc=\"+str(auc))\n",
    "plt.legend(loc=4)\n",
    "plt.show()"
   ]
  },
  {
   "cell_type": "markdown",
   "metadata": {},
   "source": [
    "### 9.2 Decision Tree"
   ]
  },
  {
   "cell_type": "code",
   "execution_count": 44,
   "metadata": {},
   "outputs": [
    {
     "name": "stdout",
     "output_type": "stream",
     "text": [
      "Accuracy:  0.8032786885245902\n"
     ]
    },
    {
     "data": {
      "text/plain": [
       "[Text(192.331914893617, 207.55636363636364, 'cp <= 0.5\\ngini = 0.494\\nsamples = 242\\nvalue = [108, 134]'),\n",
       " Text(113.97446808510638, 187.7890909090909, 'ca <= 0.5\\ngini = 0.415\\nsamples = 109\\nvalue = [77, 32]'),\n",
       " Text(60.54893617021276, 168.0218181818182, 'exang <= 0.5\\ngini = 0.498\\nsamples = 51\\nvalue = [24, 27]'),\n",
       " Text(28.493617021276595, 148.25454545454545, 'age <= 41.5\\ngini = 0.32\\nsamples = 25\\nvalue = [5, 20]'),\n",
       " Text(14.246808510638298, 128.48727272727274, 'sex <= 0.5\\ngini = 0.444\\nsamples = 3\\nvalue = [2, 1]'),\n",
       " Text(7.123404255319149, 108.72, 'gini = 0.0\\nsamples = 1\\nvalue = [0, 1]'),\n",
       " Text(21.370212765957447, 108.72, 'gini = 0.0\\nsamples = 2\\nvalue = [2, 0]'),\n",
       " Text(42.740425531914894, 128.48727272727274, 'oldpeak <= 2.45\\ngini = 0.236\\nsamples = 22\\nvalue = [3, 19]'),\n",
       " Text(35.61702127659574, 108.72, 'chol <= 316.5\\ngini = 0.172\\nsamples = 21\\nvalue = [2, 19]'),\n",
       " Text(28.493617021276595, 88.95272727272729, 'chol <= 272.5\\ngini = 0.095\\nsamples = 20\\nvalue = [1, 19]'),\n",
       " Text(21.370212765957447, 69.18545454545455, 'gini = 0.0\\nsamples = 17\\nvalue = [0, 17]'),\n",
       " Text(35.61702127659574, 69.18545454545455, 'trestbps <= 122.0\\ngini = 0.444\\nsamples = 3\\nvalue = [1, 2]'),\n",
       " Text(28.493617021276595, 49.418181818181836, 'gini = 0.0\\nsamples = 2\\nvalue = [0, 2]'),\n",
       " Text(42.740425531914894, 49.418181818181836, 'gini = 0.0\\nsamples = 1\\nvalue = [1, 0]'),\n",
       " Text(42.740425531914894, 88.95272727272729, 'gini = 0.0\\nsamples = 1\\nvalue = [1, 0]'),\n",
       " Text(49.86382978723404, 108.72, 'gini = 0.0\\nsamples = 1\\nvalue = [1, 0]'),\n",
       " Text(92.60425531914893, 148.25454545454545, 'oldpeak <= 0.7\\ngini = 0.393\\nsamples = 26\\nvalue = [19, 7]'),\n",
       " Text(71.23404255319149, 128.48727272727274, 'thalach <= 147.5\\ngini = 0.48\\nsamples = 10\\nvalue = [4, 6]'),\n",
       " Text(64.11063829787234, 108.72, 'gini = 0.0\\nsamples = 3\\nvalue = [3, 0]'),\n",
       " Text(78.35744680851063, 108.72, 'age <= 40.0\\ngini = 0.245\\nsamples = 7\\nvalue = [1, 6]'),\n",
       " Text(71.23404255319149, 88.95272727272729, 'gini = 0.0\\nsamples = 1\\nvalue = [1, 0]'),\n",
       " Text(85.48085106382979, 88.95272727272729, 'gini = 0.0\\nsamples = 6\\nvalue = [0, 6]'),\n",
       " Text(113.97446808510638, 128.48727272727274, 'trestbps <= 115.0\\ngini = 0.117\\nsamples = 16\\nvalue = [15, 1]'),\n",
       " Text(106.85106382978724, 108.72, 'oldpeak <= 1.75\\ngini = 0.5\\nsamples = 2\\nvalue = [1, 1]'),\n",
       " Text(99.72765957446808, 88.95272727272729, 'gini = 0.0\\nsamples = 1\\nvalue = [0, 1]'),\n",
       " Text(113.97446808510638, 88.95272727272729, 'gini = 0.0\\nsamples = 1\\nvalue = [1, 0]'),\n",
       " Text(121.09787234042552, 108.72, 'gini = 0.0\\nsamples = 14\\nvalue = [14, 0]'),\n",
       " Text(167.4, 168.0218181818182, 'sex <= 0.5\\ngini = 0.158\\nsamples = 58\\nvalue = [53, 5]'),\n",
       " Text(149.59148936170212, 148.25454545454545, 'trestbps <= 134.0\\ngini = 0.444\\nsamples = 9\\nvalue = [6, 3]'),\n",
       " Text(142.46808510638297, 128.48727272727274, 'exang <= 0.5\\ngini = 0.375\\nsamples = 4\\nvalue = [1, 3]'),\n",
       " Text(135.34468085106383, 108.72, 'gini = 0.0\\nsamples = 3\\nvalue = [0, 3]'),\n",
       " Text(149.59148936170212, 108.72, 'gini = 0.0\\nsamples = 1\\nvalue = [1, 0]'),\n",
       " Text(156.71489361702126, 128.48727272727274, 'gini = 0.0\\nsamples = 5\\nvalue = [5, 0]'),\n",
       " Text(185.20851063829787, 148.25454545454545, 'trestbps <= 109.0\\ngini = 0.078\\nsamples = 49\\nvalue = [47, 2]'),\n",
       " Text(170.96170212765958, 128.48727272727274, 'age <= 55.0\\ngini = 0.444\\nsamples = 3\\nvalue = [2, 1]'),\n",
       " Text(163.83829787234043, 108.72, 'gini = 0.0\\nsamples = 1\\nvalue = [0, 1]'),\n",
       " Text(178.08510638297872, 108.72, 'gini = 0.0\\nsamples = 2\\nvalue = [2, 0]'),\n",
       " Text(199.45531914893616, 128.48727272727274, 'thalach <= 106.5\\ngini = 0.043\\nsamples = 46\\nvalue = [45, 1]'),\n",
       " Text(192.331914893617, 108.72, 'oldpeak <= 0.6\\ngini = 0.278\\nsamples = 6\\nvalue = [5, 1]'),\n",
       " Text(185.20851063829787, 88.95272727272729, 'gini = 0.0\\nsamples = 1\\nvalue = [0, 1]'),\n",
       " Text(199.45531914893616, 88.95272727272729, 'gini = 0.0\\nsamples = 5\\nvalue = [5, 0]'),\n",
       " Text(206.57872340425533, 108.72, 'gini = 0.0\\nsamples = 40\\nvalue = [40, 0]'),\n",
       " Text(270.68936170212766, 187.7890909090909, 'ca <= 0.5\\ngini = 0.358\\nsamples = 133\\nvalue = [31, 102]'),\n",
       " Text(242.19574468085105, 168.0218181818182, 'thalach <= 160.5\\ngini = 0.227\\nsamples = 92\\nvalue = [12, 80]'),\n",
       " Text(220.82553191489362, 148.25454545454545, 'sex <= 0.5\\ngini = 0.399\\nsamples = 40\\nvalue = [11, 29]'),\n",
       " Text(213.70212765957447, 128.48727272727274, 'gini = 0.0\\nsamples = 13\\nvalue = [0, 13]'),\n",
       " Text(227.94893617021276, 128.48727272727274, 'chol <= 271.5\\ngini = 0.483\\nsamples = 27\\nvalue = [11, 16]'),\n",
       " Text(220.82553191489362, 108.72, 'age <= 65.5\\ngini = 0.363\\nsamples = 21\\nvalue = [5, 16]'),\n",
       " Text(213.70212765957447, 88.95272727272729, 'chol <= 259.5\\ngini = 0.32\\nsamples = 20\\nvalue = [4, 16]'),\n",
       " Text(199.45531914893616, 69.18545454545455, 'oldpeak <= 2.65\\ngini = 0.219\\nsamples = 16\\nvalue = [2, 14]'),\n",
       " Text(192.331914893617, 49.418181818181836, 'trestbps <= 109.0\\ngini = 0.124\\nsamples = 15\\nvalue = [1, 14]'),\n",
       " Text(185.20851063829787, 29.650909090909096, 'thalach <= 153.0\\ngini = 0.444\\nsamples = 3\\nvalue = [1, 2]'),\n",
       " Text(178.08510638297872, 9.883636363636384, 'gini = 0.0\\nsamples = 1\\nvalue = [1, 0]'),\n",
       " Text(192.331914893617, 9.883636363636384, 'gini = 0.0\\nsamples = 2\\nvalue = [0, 2]'),\n",
       " Text(199.45531914893616, 29.650909090909096, 'gini = 0.0\\nsamples = 12\\nvalue = [0, 12]'),\n",
       " Text(206.57872340425533, 49.418181818181836, 'gini = 0.0\\nsamples = 1\\nvalue = [1, 0]'),\n",
       " Text(227.94893617021276, 69.18545454545455, 'trestbps <= 127.0\\ngini = 0.5\\nsamples = 4\\nvalue = [2, 2]'),\n",
       " Text(220.82553191489362, 49.418181818181836, 'gini = 0.0\\nsamples = 2\\nvalue = [2, 0]'),\n",
       " Text(235.0723404255319, 49.418181818181836, 'gini = 0.0\\nsamples = 2\\nvalue = [0, 2]'),\n",
       " Text(227.94893617021276, 88.95272727272729, 'gini = 0.0\\nsamples = 1\\nvalue = [1, 0]'),\n",
       " Text(235.0723404255319, 108.72, 'gini = 0.0\\nsamples = 6\\nvalue = [6, 0]'),\n",
       " Text(263.5659574468085, 148.25454545454545, 'slope <= 0.5\\ngini = 0.038\\nsamples = 52\\nvalue = [1, 51]'),\n",
       " Text(256.44255319148937, 128.48727272727274, 'thalach <= 168.5\\ngini = 0.375\\nsamples = 4\\nvalue = [1, 3]'),\n",
       " Text(249.3191489361702, 108.72, 'gini = 0.0\\nsamples = 1\\nvalue = [1, 0]'),\n",
       " Text(263.5659574468085, 108.72, 'gini = 0.0\\nsamples = 3\\nvalue = [0, 3]'),\n",
       " Text(270.68936170212766, 128.48727272727274, 'gini = 0.0\\nsamples = 48\\nvalue = [0, 48]'),\n",
       " Text(299.18297872340423, 168.0218181818182, 'oldpeak <= 1.9\\ngini = 0.497\\nsamples = 41\\nvalue = [19, 22]'),\n",
       " Text(292.0595744680851, 148.25454545454545, 'thalach <= 120.5\\ngini = 0.457\\nsamples = 34\\nvalue = [12, 22]'),\n",
       " Text(284.93617021276594, 128.48727272727274, 'gini = 0.0\\nsamples = 3\\nvalue = [3, 0]'),\n",
       " Text(299.18297872340423, 128.48727272727274, 'restecg <= 0.5\\ngini = 0.412\\nsamples = 31\\nvalue = [9, 22]'),\n",
       " Text(284.93617021276594, 108.72, 'age <= 65.5\\ngini = 0.498\\nsamples = 15\\nvalue = [7, 8]'),\n",
       " Text(277.8127659574468, 88.95272727272729, 'age <= 53.5\\ngini = 0.486\\nsamples = 12\\nvalue = [7, 5]'),\n",
       " Text(263.5659574468085, 69.18545454545455, 'trestbps <= 121.5\\ngini = 0.32\\nsamples = 5\\nvalue = [1, 4]'),\n",
       " Text(256.44255319148937, 49.418181818181836, 'gini = 0.0\\nsamples = 1\\nvalue = [1, 0]'),\n",
       " Text(270.68936170212766, 49.418181818181836, 'gini = 0.0\\nsamples = 4\\nvalue = [0, 4]'),\n",
       " Text(292.0595744680851, 69.18545454545455, 'chol <= 368.0\\ngini = 0.245\\nsamples = 7\\nvalue = [6, 1]'),\n",
       " Text(284.93617021276594, 49.418181818181836, 'gini = 0.0\\nsamples = 6\\nvalue = [6, 0]'),\n",
       " Text(299.18297872340423, 49.418181818181836, 'gini = 0.0\\nsamples = 1\\nvalue = [0, 1]'),\n",
       " Text(292.0595744680851, 88.95272727272729, 'gini = 0.0\\nsamples = 3\\nvalue = [0, 3]'),\n",
       " Text(313.4297872340425, 108.72, 'oldpeak <= 0.5\\ngini = 0.219\\nsamples = 16\\nvalue = [2, 14]'),\n",
       " Text(306.3063829787234, 88.95272727272729, 'gini = 0.0\\nsamples = 10\\nvalue = [0, 10]'),\n",
       " Text(320.5531914893617, 88.95272727272729, 'thalach <= 160.0\\ngini = 0.444\\nsamples = 6\\nvalue = [2, 4]'),\n",
       " Text(313.4297872340425, 69.18545454545455, 'gini = 0.0\\nsamples = 4\\nvalue = [0, 4]'),\n",
       " Text(327.67659574468087, 69.18545454545455, 'gini = 0.0\\nsamples = 2\\nvalue = [2, 0]'),\n",
       " Text(306.3063829787234, 148.25454545454545, 'gini = 0.0\\nsamples = 7\\nvalue = [7, 0]')]"
      ]
     },
     "execution_count": 44,
     "metadata": {},
     "output_type": "execute_result"
    },
    {
     "data": {
      "image/png": "[encoded data removed]",
      "text/plain": [
       "<Figure size 432x288 with 1 Axes>"
      ]
     },
     "metadata": {
      "needs_background": "light"
     },
     "output_type": "display_data"
    }
   ],
   "source": [
    "from sklearn.tree import DecisionTreeClassifier\n",
    "\n",
    "classifier = DecisionTreeClassifier()\n",
    "\n",
    "classifier = classifier.fit(X_train,y_train)\n",
    "\n",
    "y_pred = classifier.predict(X_test)\n",
    "\n",
    "print(\"Accuracy: \",metrics.accuracy_score(y_test, y_pred))\n",
    "\n",
    "from sklearn import tree\n",
    "tree.plot_tree(classifier, feature_names=feature_cols)"
   ]
  },
  {
   "cell_type": "code",
   "execution_count": 45,
   "metadata": {},
   "outputs": [
    {
     "name": "stdout",
     "output_type": "stream",
     "text": [
      "Accuracy: 0.819672131147541\n"
     ]
    },
    {
     "data": {
      "text/plain": [
       "[Text(167.4, 190.26, 'cp <= 0.5\\nentropy = 0.992\\nsamples = 242\\nvalue = [108, 134]'),\n",
       " Text(83.7, 135.9, 'ca <= 0.5\\nentropy = 0.873\\nsamples = 109\\nvalue = [77, 32]'),\n",
       " Text(41.85, 81.53999999999999, 'exang <= 0.5\\nentropy = 0.998\\nsamples = 51\\nvalue = [24, 27]'),\n",
       " Text(20.925, 27.180000000000007, 'entropy = 0.722\\nsamples = 25\\nvalue = [5, 20]'),\n",
       " Text(62.775000000000006, 27.180000000000007, 'entropy = 0.84\\nsamples = 26\\nvalue = [19, 7]'),\n",
       " Text(125.55000000000001, 81.53999999999999, 'oldpeak <= 0.45\\nentropy = 0.424\\nsamples = 58\\nvalue = [53, 5]'),\n",
       " Text(104.625, 27.180000000000007, 'entropy = 0.811\\nsamples = 16\\nvalue = [12, 4]'),\n",
       " Text(146.475, 27.180000000000007, 'entropy = 0.162\\nsamples = 42\\nvalue = [41, 1]'),\n",
       " Text(251.10000000000002, 135.9, 'age <= 55.5\\nentropy = 0.783\\nsamples = 133\\nvalue = [31, 102]'),\n",
       " Text(209.25, 81.53999999999999, 'age <= 44.5\\nentropy = 0.456\\nsamples = 73\\nvalue = [7, 66]'),\n",
       " Text(188.32500000000002, 27.180000000000007, 'entropy = 0.0\\nsamples = 28\\nvalue = [0, 28]'),\n",
       " Text(230.175, 27.180000000000007, 'entropy = 0.624\\nsamples = 45\\nvalue = [7, 38]'),\n",
       " Text(292.95, 81.53999999999999, 'sex <= 0.5\\nentropy = 0.971\\nsamples = 60\\nvalue = [24, 36]'),\n",
       " Text(272.02500000000003, 27.180000000000007, 'entropy = 0.469\\nsamples = 20\\nvalue = [2, 18]'),\n",
       " Text(313.875, 27.180000000000007, 'entropy = 0.993\\nsamples = 40\\nvalue = [22, 18]')]"
      ]
     },
     "execution_count": 45,
     "metadata": {},
     "output_type": "execute_result"
    },
    {
     "data": {
      "image/png": "[encoded data removed]",
      "text/plain": [
       "<Figure size 432x288 with 1 Axes>"
      ]
     },
     "metadata": {
      "needs_background": "light"
     },
     "output_type": "display_data"
    }
   ],
   "source": [
    "classifier_ent = DecisionTreeClassifier(criterion=\"entropy\", max_depth=3)\n",
    "\n",
    "classifier_ent = classifier_ent.fit(X_train,y_train)\n",
    "\n",
    "y_pred = classifier_ent.predict(X_test)\n",
    "\n",
    "print(\"Accuracy:\",metrics.accuracy_score(y_test, y_pred))\n",
    "\n",
    "from sklearn import tree\n",
    "tree.plot_tree(classifier_ent, feature_names=feature_cols)"
   ]
  },
  {
   "cell_type": "markdown",
   "metadata": {},
   "source": [
    "### 9.3 Naive Bayes"
   ]
  },
  {
   "cell_type": "code",
   "execution_count": 50,
   "metadata": {},
   "outputs": [
    {
     "name": "stdout",
     "output_type": "stream",
     "text": [
      "Number of mislabeled points out of a total %d points : %d 61 7\n"
     ]
    }
   ],
   "source": [
    "from sklearn.naive_bayes import GaussianNB\n",
    "\n",
    "gnb = GaussianNB()\n",
    "y_pred = gnb.fit(X_train, y_train).predict(X_test)\n",
    "print(\"Number of mislabeled points out of a total %d points : %d\", X_test.shape[0], (y_test != y_pred).sum())"
   ]
  },
  {
   "cell_type": "code",
   "execution_count": null,
   "metadata": {},
   "outputs": [],
   "source": []
  }
 ],
 "metadata": {
  "colab": {
   "collapsed_sections": [],
   "name": "Copy of Heart Disease - Assignment 5.ipynb",
   "provenance": []
  },
  "kernelspec": {
   "display_name": "Python 3",
   "language": "python",
   "name": "python3"
  },
  "language_info": {
   "codemirror_mode": {
    "name": "ipython",
    "version": 3
   },
   "file_extension": ".py",
   "mimetype": "text/x-python",
   "name": "python",
   "nbconvert_exporter": "python",
   "pygments_lexer": "ipython3",
   "version": "3.7.9"
  }
 },
 "nbformat": 4,
 "nbformat_minor": 1
}
